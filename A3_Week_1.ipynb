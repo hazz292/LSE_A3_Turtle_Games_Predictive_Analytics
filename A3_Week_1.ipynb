{
 "cells": [
  {
   "cell_type": "markdown",
   "id": "3af83ae7-169f-454e-ac25-23cc0abb1d60",
   "metadata": {},
   "source": [
    "# Assignment 3: Week 1 - Linear Regression Model\n",
    "\n",
    "* Determine the optimal price at which they should sell Lego products based on the number of Lego pieces in the Lego set and the age of the customer that the product is most likely to be purchased by. \n",
    "\n",
    "    * Independent variable - lego pieces, age of customer\n",
    "    * Dependent variable - price of lego products\n",
    "\n",
    "1. What price should be set for the Lego sets with 8,000 Lego pieces? (Simple linear regression)\n",
    "2. What price should be set for the Lego sets with 8,000 Lego pieces that are most likely to be purchased by 30-year-old customers? (Multiple linear regression)\n"
   ]
  },
  {
   "cell_type": "code",
   "execution_count": 1,
   "id": "1eddf2d6-4e93-478a-89b5-8c901c06c13a",
   "metadata": {},
   "outputs": [],
   "source": [
    "# Import all the necessary packages\n",
    "import numpy as np\n",
    "import pandas as pd\n",
    "import statsmodels.api as sm\n",
    "import statsmodels.stats.api as sms\n",
    "import sklearn\n",
    "import matplotlib.pyplot as plt\n",
    "import matplotlib.ticker as ticker\n",
    "import seaborn as sns\n",
    "\n",
    "from sklearn import datasets \n",
    "from sklearn import linear_model\n",
    "from statsmodels.stats.outliers_influence import variance_inflation_factor\n",
    "from sklearn.model_selection import train_test_split\n",
    "from sklearn import metrics\n",
    "from sklearn.linear_model import LinearRegression\n",
    "from statsmodels.formula.api import ols\n",
    "\n",
    "import scipy\n",
    "from scipy.stats import skew"
   ]
  },
  {
   "cell_type": "code",
   "execution_count": 2,
   "id": "9f11c6e4-54d2-4999-ac9e-19eb7c287919",
   "metadata": {},
   "outputs": [
    {
     "name": "stdout",
     "output_type": "stream",
     "text": [
      "/Users/hazel/Documents/LSE Data Analytics/Course 3 - Advanced Analytics/Assignment 3\n"
     ]
    }
   ],
   "source": [
    "# Define directory\n",
    "!pwd"
   ]
  },
  {
   "cell_type": "code",
   "execution_count": 3,
   "id": "76c33ab7-692f-4425-90c4-3ce815cc2cbc",
   "metadata": {},
   "outputs": [],
   "source": [
    "# Assign path to 'dir' variable\n",
    "dir = '/Users/hazel/Documents/LSE Data Analytics/Course 3 - Advanced Analytics/Assignment 3/game_data/'"
   ]
  },
  {
   "cell_type": "markdown",
   "id": "969900ed-06e7-4548-9699-34b3f55f271c",
   "metadata": {},
   "source": [
    "## 1. Import file"
   ]
  },
  {
   "cell_type": "code",
   "execution_count": 4,
   "id": "b29a8f61-42ab-495b-ace5-485dbdd172dc",
   "metadata": {},
   "outputs": [],
   "source": [
    "# Import data set\n",
    "lego = pd.read_csv(dir + 'lego.csv')"
   ]
  },
  {
   "cell_type": "code",
   "execution_count": 5,
   "id": "73cc52aa-2115-4da8-9d17-4a262f180e74",
   "metadata": {},
   "outputs": [
    {
     "data": {
      "text/html": [
       "<div>\n",
       "<style scoped>\n",
       "    .dataframe tbody tr th:only-of-type {\n",
       "        vertical-align: middle;\n",
       "    }\n",
       "\n",
       "    .dataframe tbody tr th {\n",
       "        vertical-align: top;\n",
       "    }\n",
       "\n",
       "    .dataframe thead th {\n",
       "        text-align: right;\n",
       "    }\n",
       "</style>\n",
       "<table border=\"1\" class=\"dataframe\">\n",
       "  <thead>\n",
       "    <tr style=\"text-align: right;\">\n",
       "      <th></th>\n",
       "      <th>ages</th>\n",
       "      <th>list_price</th>\n",
       "      <th>num_reviews</th>\n",
       "      <th>piece_count</th>\n",
       "      <th>play_star_rating</th>\n",
       "      <th>review_difficulty</th>\n",
       "      <th>country</th>\n",
       "    </tr>\n",
       "  </thead>\n",
       "  <tbody>\n",
       "    <tr>\n",
       "      <th>0</th>\n",
       "      <td>19</td>\n",
       "      <td>29.99</td>\n",
       "      <td>2</td>\n",
       "      <td>277</td>\n",
       "      <td>4.0</td>\n",
       "      <td>0</td>\n",
       "      <td>20</td>\n",
       "    </tr>\n",
       "    <tr>\n",
       "      <th>1</th>\n",
       "      <td>19</td>\n",
       "      <td>19.99</td>\n",
       "      <td>2</td>\n",
       "      <td>168</td>\n",
       "      <td>4.0</td>\n",
       "      <td>2</td>\n",
       "      <td>20</td>\n",
       "    </tr>\n",
       "    <tr>\n",
       "      <th>2</th>\n",
       "      <td>19</td>\n",
       "      <td>12.99</td>\n",
       "      <td>11</td>\n",
       "      <td>74</td>\n",
       "      <td>4.3</td>\n",
       "      <td>2</td>\n",
       "      <td>20</td>\n",
       "    </tr>\n",
       "    <tr>\n",
       "      <th>3</th>\n",
       "      <td>5</td>\n",
       "      <td>99.99</td>\n",
       "      <td>23</td>\n",
       "      <td>1032</td>\n",
       "      <td>3.6</td>\n",
       "      <td>0</td>\n",
       "      <td>20</td>\n",
       "    </tr>\n",
       "    <tr>\n",
       "      <th>4</th>\n",
       "      <td>5</td>\n",
       "      <td>79.99</td>\n",
       "      <td>14</td>\n",
       "      <td>744</td>\n",
       "      <td>3.2</td>\n",
       "      <td>1</td>\n",
       "      <td>20</td>\n",
       "    </tr>\n",
       "  </tbody>\n",
       "</table>\n",
       "</div>"
      ],
      "text/plain": [
       "   ages  list_price  num_reviews  piece_count  play_star_rating  \\\n",
       "0    19       29.99            2          277               4.0   \n",
       "1    19       19.99            2          168               4.0   \n",
       "2    19       12.99           11           74               4.3   \n",
       "3     5       99.99           23         1032               3.6   \n",
       "4     5       79.99           14          744               3.2   \n",
       "\n",
       "   review_difficulty  country  \n",
       "0                  0       20  \n",
       "1                  2       20  \n",
       "2                  2       20  \n",
       "3                  0       20  \n",
       "4                  1       20  "
      ]
     },
     "execution_count": 5,
     "metadata": {},
     "output_type": "execute_result"
    }
   ],
   "source": [
    "# View data frame\n",
    "lego.head()"
   ]
  },
  {
   "cell_type": "code",
   "execution_count": 6,
   "id": "e466b111-f61d-4bcc-9590-a67ce039d394",
   "metadata": {},
   "outputs": [
    {
     "name": "stdout",
     "output_type": "stream",
     "text": [
      "<class 'pandas.core.frame.DataFrame'>\n",
      "RangeIndex: 12261 entries, 0 to 12260\n",
      "Data columns (total 7 columns):\n",
      " #   Column             Non-Null Count  Dtype  \n",
      "---  ------             --------------  -----  \n",
      " 0   ages               12261 non-null  int64  \n",
      " 1   list_price         12261 non-null  float64\n",
      " 2   num_reviews        12261 non-null  int64  \n",
      " 3   piece_count        12261 non-null  int64  \n",
      " 4   play_star_rating   12261 non-null  float64\n",
      " 5   review_difficulty  12261 non-null  int64  \n",
      " 6   country            12261 non-null  int64  \n",
      "dtypes: float64(2), int64(5)\n",
      "memory usage: 670.6 KB\n"
     ]
    }
   ],
   "source": [
    "# View metadata\n",
    "lego.info()"
   ]
  },
  {
   "cell_type": "code",
   "execution_count": 7,
   "id": "40ac15d3-fe94-4e10-bd80-d0b772909ea5",
   "metadata": {},
   "outputs": [
    {
     "data": {
      "text/plain": [
       "ages                 0\n",
       "list_price           0\n",
       "num_reviews          0\n",
       "piece_count          0\n",
       "play_star_rating     0\n",
       "review_difficulty    0\n",
       "country              0\n",
       "dtype: int64"
      ]
     },
     "execution_count": 7,
     "metadata": {},
     "output_type": "execute_result"
    }
   ],
   "source": [
    "# Check for missing values\n",
    "lego.isna().sum()"
   ]
  },
  {
   "cell_type": "markdown",
   "id": "f1ba9441-59e3-4326-95d8-b74e5f8c8dac",
   "metadata": {},
   "source": [
    "Initial observation is that all data is numeric and there are no missing values in lego dataset."
   ]
  },
  {
   "cell_type": "markdown",
   "id": "89cf8b28-8851-481e-9647-55e5915c9433",
   "metadata": {},
   "source": [
    "## 2. Print min and max to view distribution of values"
   ]
  },
  {
   "cell_type": "code",
   "execution_count": 8,
   "id": "8c1e8839-6b22-475d-b73b-7a3cb316191e",
   "metadata": {},
   "outputs": [
    {
     "data": {
      "text/html": [
       "<div>\n",
       "<style scoped>\n",
       "    .dataframe tbody tr th:only-of-type {\n",
       "        vertical-align: middle;\n",
       "    }\n",
       "\n",
       "    .dataframe tbody tr th {\n",
       "        vertical-align: top;\n",
       "    }\n",
       "\n",
       "    .dataframe thead th {\n",
       "        text-align: right;\n",
       "    }\n",
       "</style>\n",
       "<table border=\"1\" class=\"dataframe\">\n",
       "  <thead>\n",
       "    <tr style=\"text-align: right;\">\n",
       "      <th></th>\n",
       "      <th>ages</th>\n",
       "      <th>list_price</th>\n",
       "      <th>num_reviews</th>\n",
       "      <th>piece_count</th>\n",
       "      <th>play_star_rating</th>\n",
       "      <th>review_difficulty</th>\n",
       "      <th>country</th>\n",
       "    </tr>\n",
       "  </thead>\n",
       "  <tbody>\n",
       "    <tr>\n",
       "      <th>count</th>\n",
       "      <td>12261.00</td>\n",
       "      <td>12261.00</td>\n",
       "      <td>12261.00</td>\n",
       "      <td>12261.00</td>\n",
       "      <td>12261.00</td>\n",
       "      <td>12261.00</td>\n",
       "      <td>12261.00</td>\n",
       "    </tr>\n",
       "    <tr>\n",
       "      <th>mean</th>\n",
       "      <td>16.69</td>\n",
       "      <td>65.14</td>\n",
       "      <td>14.60</td>\n",
       "      <td>493.41</td>\n",
       "      <td>3.71</td>\n",
       "      <td>1.99</td>\n",
       "      <td>10.02</td>\n",
       "    </tr>\n",
       "    <tr>\n",
       "      <th>std</th>\n",
       "      <td>8.22</td>\n",
       "      <td>91.98</td>\n",
       "      <td>34.36</td>\n",
       "      <td>825.36</td>\n",
       "      <td>1.64</td>\n",
       "      <td>1.79</td>\n",
       "      <td>6.19</td>\n",
       "    </tr>\n",
       "    <tr>\n",
       "      <th>min</th>\n",
       "      <td>0.00</td>\n",
       "      <td>2.27</td>\n",
       "      <td>0.00</td>\n",
       "      <td>1.00</td>\n",
       "      <td>0.00</td>\n",
       "      <td>0.00</td>\n",
       "      <td>0.00</td>\n",
       "    </tr>\n",
       "    <tr>\n",
       "      <th>25%</th>\n",
       "      <td>11.00</td>\n",
       "      <td>19.99</td>\n",
       "      <td>1.00</td>\n",
       "      <td>97.00</td>\n",
       "      <td>3.60</td>\n",
       "      <td>0.00</td>\n",
       "      <td>4.00</td>\n",
       "    </tr>\n",
       "    <tr>\n",
       "      <th>50%</th>\n",
       "      <td>19.00</td>\n",
       "      <td>36.59</td>\n",
       "      <td>4.00</td>\n",
       "      <td>216.00</td>\n",
       "      <td>4.40</td>\n",
       "      <td>2.00</td>\n",
       "      <td>10.00</td>\n",
       "    </tr>\n",
       "    <tr>\n",
       "      <th>75%</th>\n",
       "      <td>23.00</td>\n",
       "      <td>70.19</td>\n",
       "      <td>11.00</td>\n",
       "      <td>544.00</td>\n",
       "      <td>4.70</td>\n",
       "      <td>4.00</td>\n",
       "      <td>15.00</td>\n",
       "    </tr>\n",
       "    <tr>\n",
       "      <th>max</th>\n",
       "      <td>30.00</td>\n",
       "      <td>1104.87</td>\n",
       "      <td>367.00</td>\n",
       "      <td>7541.00</td>\n",
       "      <td>5.00</td>\n",
       "      <td>5.00</td>\n",
       "      <td>20.00</td>\n",
       "    </tr>\n",
       "  </tbody>\n",
       "</table>\n",
       "</div>"
      ],
      "text/plain": [
       "           ages  list_price  num_reviews  piece_count  play_star_rating  \\\n",
       "count  12261.00    12261.00     12261.00     12261.00          12261.00   \n",
       "mean      16.69       65.14        14.60       493.41              3.71   \n",
       "std        8.22       91.98        34.36       825.36              1.64   \n",
       "min        0.00        2.27         0.00         1.00              0.00   \n",
       "25%       11.00       19.99         1.00        97.00              3.60   \n",
       "50%       19.00       36.59         4.00       216.00              4.40   \n",
       "75%       23.00       70.19        11.00       544.00              4.70   \n",
       "max       30.00     1104.87       367.00      7541.00              5.00   \n",
       "\n",
       "       review_difficulty   country  \n",
       "count           12261.00  12261.00  \n",
       "mean                1.99     10.02  \n",
       "std                 1.79      6.19  \n",
       "min                 0.00      0.00  \n",
       "25%                 0.00      4.00  \n",
       "50%                 2.00     10.00  \n",
       "75%                 4.00     15.00  \n",
       "max                 5.00     20.00  "
      ]
     },
     "execution_count": 8,
     "metadata": {},
     "output_type": "execute_result"
    }
   ],
   "source": [
    "# Descriptive statistics\n",
    "lego.describe().round(2)"
   ]
  },
  {
   "cell_type": "markdown",
   "id": "bb8add52-b6a0-4d33-995a-b8b73575f504",
   "metadata": {},
   "source": [
    "# 3. Create some visualisations to explore the data and understand the pricing trends of the Lego products."
   ]
  },
  {
   "cell_type": "markdown",
   "id": "433dce38-9667-42c3-bf20-2bc6b414178b",
   "metadata": {
    "tags": []
   },
   "source": [
    "### 3.1 Distribution of Price\n",
    "\n",
    "**Report**: Distribution of price is skewed to the right which indicates that the data is biased towards higher priced lego products with a skewness of 4.68 which is much greater than 1. As indicated by the boxplot below, majority of the price is between USD20 to USD70, with outliers ranging from USD 150 to USD 1100."
   ]
  },
  {
   "cell_type": "code",
   "execution_count": 9,
   "id": "5e4ef76c-9b0a-4365-a7cf-807ab97cde78",
   "metadata": {},
   "outputs": [
    {
     "data": {
      "image/png": "[encoded data removed]",
      "text/plain": [
       "<Figure size 1080x576 with 1 Axes>"
      ]
     },
     "metadata": {},
     "output_type": "display_data"
    }
   ],
   "source": [
    "# Histogram of price\n",
    "sns.set(rc = {\"figure.figsize\":(15, 8)})\n",
    "sns.set_theme(style=\"whitegrid\")\n",
    "sns.histplot(data=lego, x=\"list_price\", bins=20, color = \"blue\")\\\n",
    ".set(title=\"Histogram of Lego Price\", xlabel = \"Price in USD\", ylabel = \"Count\")\n",
    "\n",
    "# Export graph\n",
    "plt.savefig('Histogram of Lego Price.png')"
   ]
  },
  {
   "cell_type": "code",
   "execution_count": 10,
   "id": "01918755-9f75-438c-9bf5-5459bd8b3415",
   "metadata": {},
   "outputs": [
    {
     "data": {
      "image/png": "[encoded data removed]",
      "text/plain": [
       "<Figure size 1080x576 with 1 Axes>"
      ]
     },
     "metadata": {},
     "output_type": "display_data"
    }
   ],
   "source": [
    "# Boxplot of price\n",
    "sns.set_theme(style=\"whitegrid\")\n",
    "sns.boxplot(data=lego, x='list_price', color='blue').set(title='Boxplot of Lego Price', xlabel = \"Price in USD\")\n",
    "\n",
    "# Export graph\n",
    "plt.savefig('Boxplot of Lego Price.png')"
   ]
  },
  {
   "cell_type": "code",
   "execution_count": 11,
   "id": "fb862893-b3c4-4129-a187-d9d1c7384d7c",
   "metadata": {},
   "outputs": [
    {
     "name": "stdout",
     "output_type": "stream",
     "text": [
      "4.680102343989678\n"
     ]
    }
   ],
   "source": [
    "# Skewness of list price\n",
    "print(skew(lego['list_price'], axis=0, bias=True))"
   ]
  },
  {
   "cell_type": "markdown",
   "id": "55d0414f-47de-417e-9be5-df0e452ab4ca",
   "metadata": {},
   "source": [
    "### 3.2 Distribution of Piece_Count\n",
    "\n",
    "**Report:** There is a strongly right skewed distribution of lego pieces in the dataset indicated by a 3.97 skewness which is much greater than 1. The boxplot and historgram indicates that majority of the data is weighted to the left with majority of the lego pieces between 100 to 500 pieces. Outliers ranging from 1100 to 7000 pieces."
   ]
  },
  {
   "cell_type": "code",
   "execution_count": 12,
   "id": "d0cf8950-09aa-4a80-be71-70ed89649559",
   "metadata": {},
   "outputs": [
    {
     "data": {
      "text/plain": [
       "[Text(0.5, 1.0, 'Histogram of Lego Pieces')]"
      ]
     },
     "execution_count": 12,
     "metadata": {},
     "output_type": "execute_result"
    },
    {
     "data": {
      "image/png": "[encoded data removed]",
      "text/plain": [
       "<Figure size 1080x576 with 1 Axes>"
      ]
     },
     "metadata": {},
     "output_type": "display_data"
    }
   ],
   "source": [
    "# Histogram of pieces\n",
    "sns.set(rc = {'figure.figsize':(15,8)})\n",
    "sns.set_theme(style=\"whitegrid\")\n",
    "sns.histplot(data=lego, x=\"piece_count\", bins=20, color = 'green').set(title='Histogram of Lego Pieces')"
   ]
  },
  {
   "cell_type": "code",
   "execution_count": 13,
   "id": "a9f673c2-ec83-4ad8-830c-f72b72ec24c3",
   "metadata": {},
   "outputs": [
    {
     "data": {
      "text/plain": [
       "[Text(0.5, 1.0, 'Boxplot of Lego Pieces')]"
      ]
     },
     "execution_count": 13,
     "metadata": {},
     "output_type": "execute_result"
    },
    {
     "data": {
      "image/png": "[encoded data removed]",
      "text/plain": [
       "<Figure size 1080x576 with 1 Axes>"
      ]
     },
     "metadata": {},
     "output_type": "display_data"
    }
   ],
   "source": [
    "# Boxplot of pieces\n",
    "sns.set_theme(style=\"whitegrid\")\n",
    "sns.boxplot(data=lego, x='piece_count', color='green').set(title='Boxplot of Lego Pieces')"
   ]
  },
  {
   "cell_type": "code",
   "execution_count": 14,
   "id": "ca0336fc-f417-4c49-9f1b-44c1eef408e5",
   "metadata": {},
   "outputs": [
    {
     "name": "stdout",
     "output_type": "stream",
     "text": [
      "3.9675723265890634\n"
     ]
    }
   ],
   "source": [
    "# Skewness of pieces\n",
    "print(skew(lego['piece_count'], axis=0, bias=True))"
   ]
  },
  {
   "cell_type": "markdown",
   "id": "71fe6867-d6b7-415b-a2fb-1ef860204747",
   "metadata": {},
   "source": [
    "### 3.3 Distribution of Ages\n",
    "\n",
    "**Report:** Ages data points are more normally distributed with a skewness of -0.49 which is within -0.5 and 0.5 the acceptable range. Though the negative indicates that it's slightly more weighted towards the right tail of the distribution. Majority of the customers are aged between 11 to 23."
   ]
  },
  {
   "cell_type": "code",
   "execution_count": 15,
   "id": "f08900a8-0105-458d-8102-6eeb0dac4149",
   "metadata": {},
   "outputs": [
    {
     "data": {
      "text/plain": [
       "[Text(0.5, 1.0, 'Histogram of Ages')]"
      ]
     },
     "execution_count": 15,
     "metadata": {},
     "output_type": "execute_result"
    },
    {
     "data": {
      "image/png": "[encoded data removed]",
      "text/plain": [
       "<Figure size 1080x576 with 1 Axes>"
      ]
     },
     "metadata": {},
     "output_type": "display_data"
    }
   ],
   "source": [
    "# Histogram of ages\n",
    "sns.set(rc = {'figure.figsize':(15,8)})\n",
    "sns.set_theme(style=\"whitegrid\")\n",
    "sns.histplot(data=lego, x=\"ages\", bins=20, color = 'orange').set(title='Histogram of Ages')"
   ]
  },
  {
   "cell_type": "code",
   "execution_count": 16,
   "id": "23926063-817a-49a0-8c8a-a0047446e725",
   "metadata": {},
   "outputs": [
    {
     "data": {
      "image/png": "[encoded data removed]",
      "text/plain": [
       "<Figure size 1080x576 with 1 Axes>"
      ]
     },
     "metadata": {},
     "output_type": "display_data"
    }
   ],
   "source": [
    "# Boxplot of pieces\n",
    "sns.set_theme(style=\"whitegrid\")\n",
    "sns.boxplot(data=lego, x='ages', color='orange').set(title='Boxplot of Ages')\n",
    "\n",
    "# Export graph\n",
    "plt.savefig('Boxplot of Lego Customer Age.png')"
   ]
  },
  {
   "cell_type": "code",
   "execution_count": 17,
   "id": "9f4d59e9-b3bc-42c2-a0d5-2d60022c175d",
   "metadata": {},
   "outputs": [
    {
     "name": "stdout",
     "output_type": "stream",
     "text": [
      "-0.48953988616447464\n"
     ]
    }
   ],
   "source": [
    "# Skewness of pieces\n",
    "print(skew(lego['ages'], axis=0, bias=True))"
   ]
  },
  {
   "cell_type": "markdown",
   "id": "f6c424fa-22f3-408c-95ae-885e9901e3b9",
   "metadata": {
    "tags": []
   },
   "source": [
    "### 3.4 Visualise relationship between Price, Age and Piece Count variables\n",
    "\n",
    "**Report:** Based on the scatterplot, there is a positive correlation between price and piece count. This means as the number of lego pieces increase, the more expensive the product is. While there is no obvious correlation between age and price as the points are scattered quite flat at as the age increases."
   ]
  },
  {
   "cell_type": "code",
   "execution_count": 18,
   "id": "94ec4180-d5cc-495e-a9f2-95363987eb36",
   "metadata": {},
   "outputs": [
    {
     "name": "stdout",
     "output_type": "stream",
     "text": [
      "Index(['ages', 'list_price', 'num_reviews', 'piece_count', 'play_star_rating',\n",
      "       'review_difficulty', 'country'],\n",
      "      dtype='object')\n"
     ]
    }
   ],
   "source": [
    "# column names\n",
    "print(lego.columns)"
   ]
  },
  {
   "cell_type": "code",
   "execution_count": 19,
   "id": "561c97ec-3d2e-432b-8005-b1cd397e4d02",
   "metadata": {},
   "outputs": [
    {
     "data": {
      "text/plain": [
       "[Text(0.5, 1.0, 'Relationship between Price and Pieces Count')]"
      ]
     },
     "execution_count": 19,
     "metadata": {},
     "output_type": "execute_result"
    },
    {
     "data": {
      "image/png": "[encoded data removed]",
      "text/plain": [
       "<Figure size 1080x576 with 1 Axes>"
      ]
     },
     "metadata": {},
     "output_type": "display_data"
    }
   ],
   "source": [
    "# Relationship between Price (dependent y variable) and Piece Count (independent x variable)\n",
    "sns.scatterplot(data=lego, x=\"piece_count\", y=\"list_price\") \\\n",
    ".set(title='Relationship between Price and Pieces Count')"
   ]
  },
  {
   "cell_type": "code",
   "execution_count": 20,
   "id": "1498ebe2-8961-4772-b3c9-efd1c79ab690",
   "metadata": {},
   "outputs": [
    {
     "data": {
      "text/plain": [
       "[Text(0.5, 1.0, 'Relationship between Price and Ages')]"
      ]
     },
     "execution_count": 20,
     "metadata": {},
     "output_type": "execute_result"
    },
    {
     "data": {
      "image/png": "[encoded data removed]",
      "text/plain": [
       "<Figure size 1080x576 with 1 Axes>"
      ]
     },
     "metadata": {},
     "output_type": "display_data"
    }
   ],
   "source": [
    "# Relationship between Price (dependent y variable) and Ages (independent x variable)\n",
    "sns.scatterplot(data=lego, x=\"ages\", y=\"list_price\") \\\n",
    ".set(title='Relationship between Price and Ages')"
   ]
  },
  {
   "cell_type": "markdown",
   "id": "192cb683-07ef-4ca5-896f-a409219b87a9",
   "metadata": {},
   "source": [
    "# Part 1: Simple Linear Regression Model\n",
    "\n",
    "Question: What price should be set for the Lego sets with 8,000 Lego pieces?"
   ]
  },
  {
   "cell_type": "markdown",
   "id": "4822c753-040b-4bfb-ae28-1c4fcfaa493b",
   "metadata": {},
   "source": [
    "## 1. Create subset with Price and Piece variables"
   ]
  },
  {
   "cell_type": "code",
   "execution_count": 21,
   "id": "b6dca3d6-4a18-4b99-bde2-2f82c10ef25f",
   "metadata": {},
   "outputs": [
    {
     "name": "stdout",
     "output_type": "stream",
     "text": [
      "<class 'pandas.core.frame.DataFrame'>\n",
      "RangeIndex: 12261 entries, 0 to 12260\n",
      "Data columns (total 2 columns):\n",
      " #   Column       Non-Null Count  Dtype  \n",
      "---  ------       --------------  -----  \n",
      " 0   list_price   12261 non-null  float64\n",
      " 1   piece_count  12261 non-null  int64  \n",
      "dtypes: float64(1), int64(1)\n",
      "memory usage: 191.7 KB\n"
     ]
    }
   ],
   "source": [
    "# Create subset with price and pieces variables\n",
    "\n",
    "slr_data = lego[['list_price','piece_count']]\n",
    "\n",
    "slr_data.info()"
   ]
  },
  {
   "cell_type": "code",
   "execution_count": 22,
   "id": "6175d870-36dc-4ffc-9ce9-fd5e68277a1f",
   "metadata": {},
   "outputs": [
    {
     "data": {
      "text/html": [
       "<div>\n",
       "<style scoped>\n",
       "    .dataframe tbody tr th:only-of-type {\n",
       "        vertical-align: middle;\n",
       "    }\n",
       "\n",
       "    .dataframe tbody tr th {\n",
       "        vertical-align: top;\n",
       "    }\n",
       "\n",
       "    .dataframe thead th {\n",
       "        text-align: right;\n",
       "    }\n",
       "</style>\n",
       "<table border=\"1\" class=\"dataframe\">\n",
       "  <thead>\n",
       "    <tr style=\"text-align: right;\">\n",
       "      <th></th>\n",
       "      <th>list_price</th>\n",
       "      <th>piece_count</th>\n",
       "    </tr>\n",
       "  </thead>\n",
       "  <tbody>\n",
       "    <tr>\n",
       "      <th>0</th>\n",
       "      <td>29.99</td>\n",
       "      <td>277</td>\n",
       "    </tr>\n",
       "    <tr>\n",
       "      <th>1</th>\n",
       "      <td>19.99</td>\n",
       "      <td>168</td>\n",
       "    </tr>\n",
       "    <tr>\n",
       "      <th>2</th>\n",
       "      <td>12.99</td>\n",
       "      <td>74</td>\n",
       "    </tr>\n",
       "    <tr>\n",
       "      <th>3</th>\n",
       "      <td>99.99</td>\n",
       "      <td>1032</td>\n",
       "    </tr>\n",
       "    <tr>\n",
       "      <th>4</th>\n",
       "      <td>79.99</td>\n",
       "      <td>744</td>\n",
       "    </tr>\n",
       "  </tbody>\n",
       "</table>\n",
       "</div>"
      ],
      "text/plain": [
       "   list_price  piece_count\n",
       "0       29.99          277\n",
       "1       19.99          168\n",
       "2       12.99           74\n",
       "3       99.99         1032\n",
       "4       79.99          744"
      ]
     },
     "execution_count": 22,
     "metadata": {},
     "output_type": "execute_result"
    }
   ],
   "source": [
    "slr_data.head()"
   ]
  },
  {
   "cell_type": "code",
   "execution_count": 23,
   "id": "4059c644-dc0a-4096-a14b-dc5bd487e23e",
   "metadata": {},
   "outputs": [
    {
     "data": {
      "text/html": [
       "<div>\n",
       "<style scoped>\n",
       "    .dataframe tbody tr th:only-of-type {\n",
       "        vertical-align: middle;\n",
       "    }\n",
       "\n",
       "    .dataframe tbody tr th {\n",
       "        vertical-align: top;\n",
       "    }\n",
       "\n",
       "    .dataframe thead th {\n",
       "        text-align: right;\n",
       "    }\n",
       "</style>\n",
       "<table border=\"1\" class=\"dataframe\">\n",
       "  <thead>\n",
       "    <tr style=\"text-align: right;\">\n",
       "      <th></th>\n",
       "      <th>list_price</th>\n",
       "      <th>piece_count</th>\n",
       "    </tr>\n",
       "  </thead>\n",
       "  <tbody>\n",
       "    <tr>\n",
       "      <th>count</th>\n",
       "      <td>12261.00</td>\n",
       "      <td>12261.00</td>\n",
       "    </tr>\n",
       "    <tr>\n",
       "      <th>mean</th>\n",
       "      <td>65.14</td>\n",
       "      <td>493.41</td>\n",
       "    </tr>\n",
       "    <tr>\n",
       "      <th>std</th>\n",
       "      <td>91.98</td>\n",
       "      <td>825.36</td>\n",
       "    </tr>\n",
       "    <tr>\n",
       "      <th>min</th>\n",
       "      <td>2.27</td>\n",
       "      <td>1.00</td>\n",
       "    </tr>\n",
       "    <tr>\n",
       "      <th>25%</th>\n",
       "      <td>19.99</td>\n",
       "      <td>97.00</td>\n",
       "    </tr>\n",
       "    <tr>\n",
       "      <th>50%</th>\n",
       "      <td>36.59</td>\n",
       "      <td>216.00</td>\n",
       "    </tr>\n",
       "    <tr>\n",
       "      <th>75%</th>\n",
       "      <td>70.19</td>\n",
       "      <td>544.00</td>\n",
       "    </tr>\n",
       "    <tr>\n",
       "      <th>max</th>\n",
       "      <td>1104.87</td>\n",
       "      <td>7541.00</td>\n",
       "    </tr>\n",
       "  </tbody>\n",
       "</table>\n",
       "</div>"
      ],
      "text/plain": [
       "       list_price  piece_count\n",
       "count    12261.00     12261.00\n",
       "mean        65.14       493.41\n",
       "std         91.98       825.36\n",
       "min          2.27         1.00\n",
       "25%         19.99        97.00\n",
       "50%         36.59       216.00\n",
       "75%         70.19       544.00\n",
       "max       1104.87      7541.00"
      ]
     },
     "execution_count": 23,
     "metadata": {},
     "output_type": "execute_result"
    }
   ],
   "source": [
    "round(slr_data.describe(),2)"
   ]
  },
  {
   "cell_type": "markdown",
   "id": "7a9b66dd-6d02-4ca3-a715-2d4742c170c8",
   "metadata": {},
   "source": [
    "## 2. Split the data into train (70%) and test (30%) data to ensure maximum model performance\n",
    "\n",
    "The regression model should be run on training and testing data sets to ensure the model performance is accurate."
   ]
  },
  {
   "cell_type": "code",
   "execution_count": 24,
   "id": "450eae4a-726f-48e5-9def-9d9a128ead03",
   "metadata": {},
   "outputs": [],
   "source": [
    "# Independent variable\n",
    "X = slr_data[['piece_count']]\n",
    "\n",
    "# Dependent variable\n",
    "y = slr_data['list_price'] "
   ]
  },
  {
   "cell_type": "code",
   "execution_count": 25,
   "id": "11ce8e35-d4c0-4175-b293-e263a63f668b",
   "metadata": {},
   "outputs": [],
   "source": [
    "# Create  the subset (70/30); \n",
    "# Control the shuffling/avoid variation in values between variable.\n",
    "\n",
    "X_train,X_test,y_train,y_test = train_test_split(X,y,train_size=0.7, \n",
    "                                                 random_state=100) "
   ]
  },
  {
   "cell_type": "markdown",
   "id": "599eaeca-79ad-4875-a999-68295b115259",
   "metadata": {},
   "source": [
    "## 2.1 Fit linear regression model with Training data set"
   ]
  },
  {
   "cell_type": "code",
   "execution_count": 26,
   "id": "e6eb1aa6-e71b-46dc-94c1-90d2c48232fa",
   "metadata": {},
   "outputs": [
    {
     "data": {
      "text/html": [
       "<style>#sk-container-id-1 {color: black;background-color: white;}#sk-container-id-1 pre{padding: 0;}#sk-container-id-1 div.sk-toggleable {background-color: white;}#sk-container-id-1 label.sk-toggleable__label {cursor: pointer;display: block;width: 100%;margin-bottom: 0;padding: 0.3em;box-sizing: border-box;text-align: center;}#sk-container-id-1 label.sk-toggleable__label-arrow:before {content: \"▸\";float: left;margin-right: 0.25em;color: #696969;}#sk-container-id-1 label.sk-toggleable__label-arrow:hover:before {color: black;}#sk-container-id-1 div.sk-estimator:hover label.sk-toggleable__label-arrow:before {color: black;}#sk-container-id-1 div.sk-toggleable__content {max-height: 0;max-width: 0;overflow: hidden;text-align: left;background-color: #f0f8ff;}#sk-container-id-1 div.sk-toggleable__content pre {margin: 0.2em;color: black;border-radius: 0.25em;background-color: #f0f8ff;}#sk-container-id-1 input.sk-toggleable__control:checked~div.sk-toggleable__content {max-height: 200px;max-width: 100%;overflow: auto;}#sk-container-id-1 input.sk-toggleable__control:checked~label.sk-toggleable__label-arrow:before {content: \"▾\";}#sk-container-id-1 div.sk-estimator input.sk-toggleable__control:checked~label.sk-toggleable__label {background-color: #d4ebff;}#sk-container-id-1 div.sk-label input.sk-toggleable__control:checked~label.sk-toggleable__label {background-color: #d4ebff;}#sk-container-id-1 input.sk-hidden--visually {border: 0;clip: rect(1px 1px 1px 1px);clip: rect(1px, 1px, 1px, 1px);height: 1px;margin: -1px;overflow: hidden;padding: 0;position: absolute;width: 1px;}#sk-container-id-1 div.sk-estimator {font-family: monospace;background-color: #f0f8ff;border: 1px dotted black;border-radius: 0.25em;box-sizing: border-box;margin-bottom: 0.5em;}#sk-container-id-1 div.sk-estimator:hover {background-color: #d4ebff;}#sk-container-id-1 div.sk-parallel-item::after {content: \"\";width: 100%;border-bottom: 1px solid gray;flex-grow: 1;}#sk-container-id-1 div.sk-label:hover label.sk-toggleable__label {background-color: #d4ebff;}#sk-container-id-1 div.sk-serial::before {content: \"\";position: absolute;border-left: 1px solid gray;box-sizing: border-box;top: 0;bottom: 0;left: 50%;z-index: 0;}#sk-container-id-1 div.sk-serial {display: flex;flex-direction: column;align-items: center;background-color: white;padding-right: 0.2em;padding-left: 0.2em;position: relative;}#sk-container-id-1 div.sk-item {position: relative;z-index: 1;}#sk-container-id-1 div.sk-parallel {display: flex;align-items: stretch;justify-content: center;background-color: white;position: relative;}#sk-container-id-1 div.sk-item::before, #sk-container-id-1 div.sk-parallel-item::before {content: \"\";position: absolute;border-left: 1px solid gray;box-sizing: border-box;top: 0;bottom: 0;left: 50%;z-index: -1;}#sk-container-id-1 div.sk-parallel-item {display: flex;flex-direction: column;z-index: 1;position: relative;background-color: white;}#sk-container-id-1 div.sk-parallel-item:first-child::after {align-self: flex-end;width: 50%;}#sk-container-id-1 div.sk-parallel-item:last-child::after {align-self: flex-start;width: 50%;}#sk-container-id-1 div.sk-parallel-item:only-child::after {width: 0;}#sk-container-id-1 div.sk-dashed-wrapped {border: 1px dashed gray;margin: 0 0.4em 0.5em 0.4em;box-sizing: border-box;padding-bottom: 0.4em;background-color: white;}#sk-container-id-1 div.sk-label label {font-family: monospace;font-weight: bold;display: inline-block;line-height: 1.2em;}#sk-container-id-1 div.sk-label-container {text-align: center;}#sk-container-id-1 div.sk-container {/* jupyter's `normalize.less` sets `[hidden] { display: none; }` but bootstrap.min.css set `[hidden] { display: none !important; }` so we also need the `!important` here to be able to override the default hidden behavior on the sphinx rendered scikit-learn.org. See: https://github.com/scikit-learn/scikit-learn/issues/21755 */display: inline-block !important;position: relative;}#sk-container-id-1 div.sk-text-repr-fallback {display: none;}</style><div id=\"sk-container-id-1\" class=\"sk-top-container\"><div class=\"sk-text-repr-fallback\"><pre>LinearRegression()</pre><b>In a Jupyter environment, please rerun this cell to show the HTML representation or trust the notebook. <br />On GitHub, the HTML representation is unable to render, please try loading this page with nbviewer.org.</b></div><div class=\"sk-container\" hidden><div class=\"sk-item\"><div class=\"sk-estimator sk-toggleable\"><input class=\"sk-toggleable__control sk-hidden--visually\" id=\"sk-estimator-id-1\" type=\"checkbox\" checked><label for=\"sk-estimator-id-1\" class=\"sk-toggleable__label sk-toggleable__label-arrow\">LinearRegression</label><div class=\"sk-toggleable__content\"><pre>LinearRegression()</pre></div></div></div></div></div>"
      ],
      "text/plain": [
       "LinearRegression()"
      ]
     },
     "execution_count": 26,
     "metadata": {},
     "output_type": "execute_result"
    }
   ],
   "source": [
    "# Fit linear regression model\n",
    "lm = LinearRegression()\n",
    "\n",
    "# Fit the model.\n",
    "lm.fit(X_train, y_train) "
   ]
  },
  {
   "cell_type": "code",
   "execution_count": 27,
   "id": "010fae08-36e0-4f7c-922a-10b6f6b90800",
   "metadata": {},
   "outputs": [
    {
     "data": {
      "text/plain": [
       "8582"
      ]
     },
     "execution_count": 27,
     "metadata": {},
     "output_type": "execute_result"
    }
   ],
   "source": [
    "# Predict the training set values.\n",
    "y_pred = lm.predict(X_train)\n",
    "\n",
    "# Number of predicted values in training set\n",
    "len(y_pred)"
   ]
  },
  {
   "cell_type": "code",
   "execution_count": 28,
   "id": "16f1141c-00b5-45f4-a37e-0b8a7acd6ca8",
   "metadata": {},
   "outputs": [
    {
     "data": {
      "text/plain": [
       "8582.7"
      ]
     },
     "execution_count": 28,
     "metadata": {},
     "output_type": "execute_result"
    }
   ],
   "source": [
    "#Check if number of predicted values is 70% of the original data set\n",
    "original_data = 12261\n",
    "training_set = original_data * 0.7\n",
    "\n",
    "# 70% of rows from original lego dataset\n",
    "round(training_set,2)"
   ]
  },
  {
   "cell_type": "markdown",
   "id": "c0952c7f-a251-4c04-94ca-350613b922bb",
   "metadata": {},
   "source": [
    "Yes, the training set prediction is 70% of original data set"
   ]
  },
  {
   "cell_type": "code",
   "execution_count": 29,
   "id": "5fae4ef0-f28f-448d-928c-86cdc8b47619",
   "metadata": {},
   "outputs": [
    {
     "data": {
      "image/png": "[encoded data removed]",
      "text/plain": [
       "<Figure size 1080x576 with 1 Axes>"
      ]
     },
     "metadata": {},
     "output_type": "display_data"
    }
   ],
   "source": [
    "# Scatterplot to visualise training\n",
    "\n",
    "# [1] Create a scatterplot.\n",
    "plt.scatter(X_train, y_train, color = \"blue\")  \n",
    "# [2] Create a regression line in green.\n",
    "plt.plot(X_train, y_pred, color = \"green\")\n",
    "# [3] Set the title for the graph.  \n",
    "plt.title(\"Training Set: Price vs Piece Count\")\n",
    "# [4] Set the label for the x-axis.  \n",
    "plt.xlabel(\"Piece Count\")\n",
    "# [5] Set the label for the y-axis.   \n",
    "plt.ylabel(\"Price\")\n",
    "\n",
    "# Export graph\n",
    "plt.savefig(\"Training Set: Price vs Piece Count\")"
   ]
  },
  {
   "cell_type": "code",
   "execution_count": 30,
   "id": "a104c98a-94d2-4cb7-bdfb-d30575d5cbd7",
   "metadata": {},
   "outputs": [
    {
     "name": "stdout",
     "output_type": "stream",
     "text": [
      "R-Squared: 0.7644351150518354\n"
     ]
    }
   ],
   "source": [
    "# Print R-squared value of the training data.\n",
    "print(\"R-Squared:\", lm.score(X_train,y_train)) "
   ]
  },
  {
   "cell_type": "markdown",
   "id": "a9fe66f7-591b-4385-8860-a9adc6018b7c",
   "metadata": {},
   "source": [
    "Quite strong R-squared value and explains 76% of the dependent variable."
   ]
  },
  {
   "cell_type": "code",
   "execution_count": 31,
   "id": "2eb59428-0184-49d0-95b7-c195c036398a",
   "metadata": {},
   "outputs": [
    {
     "name": "stdout",
     "output_type": "stream",
     "text": [
      "Intercept value:  17.02159750575565\n",
      "Coefficient value:  [0.09744347]\n"
     ]
    }
   ],
   "source": [
    "# Print the intercept value of training set\n",
    "print(\"Intercept value: \", lm.intercept_) \n",
    "# Print the coefficient value.\n",
    "print(\"Coefficient value: \", lm.coef_) "
   ]
  },
  {
   "cell_type": "markdown",
   "id": "d59faab9-5aeb-41f1-aa6d-77a15045ee1a",
   "metadata": {},
   "source": [
    "The coefficient value tells us that each additional lego piece in the product is associated with an increase of 0.097 USD in product price."
   ]
  },
  {
   "cell_type": "code",
   "execution_count": 32,
   "id": "ed4fd438-94b7-4680-b8b1-a41bee1521ba",
   "metadata": {},
   "outputs": [
    {
     "name": "stdout",
     "output_type": "stream",
     "text": [
      "[796.56932178]\n"
     ]
    },
    {
     "name": "stderr",
     "output_type": "stream",
     "text": [
      "/Users/hazel/opt/anaconda3/lib/python3.9/site-packages/sklearn/base.py:450: UserWarning: X does not have valid feature names, but LinearRegression was fitted with feature names\n",
      "  warnings.warn(\n"
     ]
    }
   ],
   "source": [
    "# Use the predict() method with an array to call the \n",
    "# Predict the price for a lego product with 8000 pieces.\n",
    "predictedPrice = lm.predict([[8000]])  \n",
    "\n",
    "# Print the results.\n",
    "print(predictedPrice)"
   ]
  },
  {
   "cell_type": "markdown",
   "id": "32fb945c-9e1f-422c-aa6d-d4582276b668",
   "metadata": {},
   "source": [
    "The training set linear regression model predicts the price to be USD 782 for a lego product containing 8000 pieces."
   ]
  },
  {
   "cell_type": "markdown",
   "id": "9ab75d16-e3f0-49b5-9679-437cd9e722a9",
   "metadata": {
    "tags": []
   },
   "source": [
    "## 2.2 Test the linear model derived from training data set\n",
    "\n",
    "Test accuracy of the linear model with the test data set."
   ]
  },
  {
   "cell_type": "code",
   "execution_count": 33,
   "id": "d36a5e75-ace7-475c-9d6a-6488c4585fa6",
   "metadata": {},
   "outputs": [
    {
     "data": {
      "text/html": [
       "<style>#sk-container-id-2 {color: black;background-color: white;}#sk-container-id-2 pre{padding: 0;}#sk-container-id-2 div.sk-toggleable {background-color: white;}#sk-container-id-2 label.sk-toggleable__label {cursor: pointer;display: block;width: 100%;margin-bottom: 0;padding: 0.3em;box-sizing: border-box;text-align: center;}#sk-container-id-2 label.sk-toggleable__label-arrow:before {content: \"▸\";float: left;margin-right: 0.25em;color: #696969;}#sk-container-id-2 label.sk-toggleable__label-arrow:hover:before {color: black;}#sk-container-id-2 div.sk-estimator:hover label.sk-toggleable__label-arrow:before {color: black;}#sk-container-id-2 div.sk-toggleable__content {max-height: 0;max-width: 0;overflow: hidden;text-align: left;background-color: #f0f8ff;}#sk-container-id-2 div.sk-toggleable__content pre {margin: 0.2em;color: black;border-radius: 0.25em;background-color: #f0f8ff;}#sk-container-id-2 input.sk-toggleable__control:checked~div.sk-toggleable__content {max-height: 200px;max-width: 100%;overflow: auto;}#sk-container-id-2 input.sk-toggleable__control:checked~label.sk-toggleable__label-arrow:before {content: \"▾\";}#sk-container-id-2 div.sk-estimator input.sk-toggleable__control:checked~label.sk-toggleable__label {background-color: #d4ebff;}#sk-container-id-2 div.sk-label input.sk-toggleable__control:checked~label.sk-toggleable__label {background-color: #d4ebff;}#sk-container-id-2 input.sk-hidden--visually {border: 0;clip: rect(1px 1px 1px 1px);clip: rect(1px, 1px, 1px, 1px);height: 1px;margin: -1px;overflow: hidden;padding: 0;position: absolute;width: 1px;}#sk-container-id-2 div.sk-estimator {font-family: monospace;background-color: #f0f8ff;border: 1px dotted black;border-radius: 0.25em;box-sizing: border-box;margin-bottom: 0.5em;}#sk-container-id-2 div.sk-estimator:hover {background-color: #d4ebff;}#sk-container-id-2 div.sk-parallel-item::after {content: \"\";width: 100%;border-bottom: 1px solid gray;flex-grow: 1;}#sk-container-id-2 div.sk-label:hover label.sk-toggleable__label {background-color: #d4ebff;}#sk-container-id-2 div.sk-serial::before {content: \"\";position: absolute;border-left: 1px solid gray;box-sizing: border-box;top: 0;bottom: 0;left: 50%;z-index: 0;}#sk-container-id-2 div.sk-serial {display: flex;flex-direction: column;align-items: center;background-color: white;padding-right: 0.2em;padding-left: 0.2em;position: relative;}#sk-container-id-2 div.sk-item {position: relative;z-index: 1;}#sk-container-id-2 div.sk-parallel {display: flex;align-items: stretch;justify-content: center;background-color: white;position: relative;}#sk-container-id-2 div.sk-item::before, #sk-container-id-2 div.sk-parallel-item::before {content: \"\";position: absolute;border-left: 1px solid gray;box-sizing: border-box;top: 0;bottom: 0;left: 50%;z-index: -1;}#sk-container-id-2 div.sk-parallel-item {display: flex;flex-direction: column;z-index: 1;position: relative;background-color: white;}#sk-container-id-2 div.sk-parallel-item:first-child::after {align-self: flex-end;width: 50%;}#sk-container-id-2 div.sk-parallel-item:last-child::after {align-self: flex-start;width: 50%;}#sk-container-id-2 div.sk-parallel-item:only-child::after {width: 0;}#sk-container-id-2 div.sk-dashed-wrapped {border: 1px dashed gray;margin: 0 0.4em 0.5em 0.4em;box-sizing: border-box;padding-bottom: 0.4em;background-color: white;}#sk-container-id-2 div.sk-label label {font-family: monospace;font-weight: bold;display: inline-block;line-height: 1.2em;}#sk-container-id-2 div.sk-label-container {text-align: center;}#sk-container-id-2 div.sk-container {/* jupyter's `normalize.less` sets `[hidden] { display: none; }` but bootstrap.min.css set `[hidden] { display: none !important; }` so we also need the `!important` here to be able to override the default hidden behavior on the sphinx rendered scikit-learn.org. See: https://github.com/scikit-learn/scikit-learn/issues/21755 */display: inline-block !important;position: relative;}#sk-container-id-2 div.sk-text-repr-fallback {display: none;}</style><div id=\"sk-container-id-2\" class=\"sk-top-container\"><div class=\"sk-text-repr-fallback\"><pre>LinearRegression()</pre><b>In a Jupyter environment, please rerun this cell to show the HTML representation or trust the notebook. <br />On GitHub, the HTML representation is unable to render, please try loading this page with nbviewer.org.</b></div><div class=\"sk-container\" hidden><div class=\"sk-item\"><div class=\"sk-estimator sk-toggleable\"><input class=\"sk-toggleable__control sk-hidden--visually\" id=\"sk-estimator-id-2\" type=\"checkbox\" checked><label for=\"sk-estimator-id-2\" class=\"sk-toggleable__label sk-toggleable__label-arrow\">LinearRegression</label><div class=\"sk-toggleable__content\"><pre>LinearRegression()</pre></div></div></div></div></div>"
      ],
      "text/plain": [
       "LinearRegression()"
      ]
     },
     "execution_count": 33,
     "metadata": {},
     "output_type": "execute_result"
    }
   ],
   "source": [
    "# Linear regression; fitting the model.\n",
    "lm.fit(X_test,y_test)"
   ]
  },
  {
   "cell_type": "code",
   "execution_count": 34,
   "id": "42231818-2223-40f2-9547-4a2fe3996e31",
   "metadata": {},
   "outputs": [],
   "source": [
    "# Predict the test set values.\n",
    "y_pred2 = lm.predict(X_test)"
   ]
  },
  {
   "cell_type": "code",
   "execution_count": 35,
   "id": "52ad6109-7dad-4df9-b2fa-13d8f60e0334",
   "metadata": {},
   "outputs": [
    {
     "data": {
      "text/plain": [
       "3679"
      ]
     },
     "execution_count": 35,
     "metadata": {},
     "output_type": "execute_result"
    }
   ],
   "source": [
    "# Check if there are 30% of the total rows for predicted y values (price) \n",
    "len(y_pred2)"
   ]
  },
  {
   "cell_type": "code",
   "execution_count": 36,
   "id": "cf153135-671d-4b21-b8c2-23e6ce87b536",
   "metadata": {},
   "outputs": [
    {
     "data": {
      "text/plain": [
       "3678.3"
      ]
     },
     "execution_count": 36,
     "metadata": {},
     "output_type": "execute_result"
    }
   ],
   "source": [
    "#Check if number of predicted values is 70% of the original data set\n",
    "original_data = 12261\n",
    "test_set = original_data * 0.3\n",
    "\n",
    "# 70% of rows from original lego dataset\n",
    "round(test_set,2)"
   ]
  },
  {
   "cell_type": "markdown",
   "id": "71c834db-87f0-4a50-a886-d0a26a53dc45",
   "metadata": {},
   "source": [
    "Yes, the test set prediction is 30% of original data set."
   ]
  },
  {
   "cell_type": "code",
   "execution_count": 37,
   "id": "99acf0af-af78-46d0-935d-e2ca235d8c34",
   "metadata": {},
   "outputs": [
    {
     "data": {
      "image/png": "[encoded data removed]",
      "text/plain": [
       "<Figure size 1080x576 with 1 Axes>"
      ]
     },
     "metadata": {},
     "output_type": "display_data"
    }
   ],
   "source": [
    "# Scatterplot to visualise test model\n",
    "\n",
    "# [1] Create a scatterplot.\n",
    "plt.scatter(X_test, y_test, color = \"purple\")  \n",
    "# [2] Create a regression line in green.\n",
    "plt.plot(X_test, y_pred2, color = \"green\")\n",
    "# [3] Set the title for the graph.  \n",
    "plt.title(\"Test Set: Price vs Piece Count\")\n",
    "# [4] Set the label for the x-axis.  \n",
    "plt.xlabel(\"Piece Count\")\n",
    "# [5] Set the label for the y-axis.   \n",
    "plt.ylabel(\"Price\") \n",
    "\n",
    "\n",
    "\n",
    "# Export graph\n",
    "plt.savefig(\"Test Set: Price vs Piece Count\")"
   ]
  },
  {
   "cell_type": "code",
   "execution_count": 38,
   "id": "4c5cd6e7-97c6-4404-b3eb-bd59c6c88e04",
   "metadata": {},
   "outputs": [
    {
     "name": "stdout",
     "output_type": "stream",
     "text": [
      "R-squared: 0.736283806932537\n"
     ]
    }
   ],
   "source": [
    "# Print R-squared value of the test data.\n",
    "print(\"R-squared:\", lm.score(X_test,y_test))"
   ]
  },
  {
   "cell_type": "markdown",
   "id": "a782aaa1-8e41-45e7-85a6-042b3df1eec1",
   "metadata": {},
   "source": [
    "As a rule of thumb,  values greater than 0.60 are typically considered acceptable. Quite strong R-squared value and explains 74% of the dependent variable."
   ]
  },
  {
   "cell_type": "code",
   "execution_count": 39,
   "id": "b5e592d7-7c38-4020-8930-9bc3c7aac79f",
   "metadata": {},
   "outputs": [
    {
     "name": "stdout",
     "output_type": "stream",
     "text": [
      "Intercept value:  18.042636129589262\n",
      "Coefficient value:  [0.09561197]\n"
     ]
    }
   ],
   "source": [
    "# Print the intercept value.\n",
    "print(\"Intercept value: \", lm.intercept_) \n",
    "# Print the coefficient value.\n",
    "print(\"Coefficient value: \", lm.coef_)"
   ]
  },
  {
   "cell_type": "markdown",
   "id": "4615dd43-f797-4268-a4aa-fc4a4e131dd2",
   "metadata": {},
   "source": [
    "Intercept and coefficient values are quite close to that obtained from training data set."
   ]
  },
  {
   "cell_type": "code",
   "execution_count": 40,
   "id": "c10cf983-81c8-42bd-a89c-96de1ba585a3",
   "metadata": {},
   "outputs": [
    {
     "name": "stdout",
     "output_type": "stream",
     "text": [
      "[782.93836492]\n"
     ]
    },
    {
     "name": "stderr",
     "output_type": "stream",
     "text": [
      "/Users/hazel/opt/anaconda3/lib/python3.9/site-packages/sklearn/base.py:450: UserWarning: X does not have valid feature names, but LinearRegression was fitted with feature names\n",
      "  warnings.warn(\n"
     ]
    }
   ],
   "source": [
    "# Predict the price for a lego product with 8000 pieces with test data set.\n",
    "predictedPrice = lm.predict([[8000]])  \n",
    "\n",
    "# Print the results.\n",
    "print(predictedPrice)"
   ]
  },
  {
   "cell_type": "markdown",
   "id": "c84a435a-7f1c-4dca-984c-b54eca5c99a1",
   "metadata": {},
   "source": [
    "**Report:** After testing the linear regression model derived from the training data set, the predicted price for lego product with 8000 pieces is very similar at USD 783, validating the model. Thus, the business is recommended to price lego products with 8000 pieces at USD 783."
   ]
  },
  {
   "cell_type": "markdown",
   "id": "51ff3744-409b-4477-8649-e678ea8de966",
   "metadata": {},
   "source": [
    "y = m (slope coefficient) x + c intercept "
   ]
  },
  {
   "cell_type": "markdown",
   "id": "8fd1f5ad-89ac-45f3-9af9-72f53426706a",
   "metadata": {},
   "source": [
    "# Part 2: Multiple Linear regression\n",
    "\n",
    "Question: What price should be set for the Lego sets with 8,000 Lego pieces that are most likely to be purchased by 30-year-old customers?"
   ]
  },
  {
   "cell_type": "markdown",
   "id": "c28351c9-1f95-437d-ae86-c9480fa9123e",
   "metadata": {},
   "source": [
    "## 1. Create subset with Price, Ages and Piece variables"
   ]
  },
  {
   "cell_type": "code",
   "execution_count": 41,
   "id": "046fb73d-61d5-4fa6-8e74-f33a626225a1",
   "metadata": {},
   "outputs": [
    {
     "name": "stdout",
     "output_type": "stream",
     "text": [
      "<class 'pandas.core.frame.DataFrame'>\n",
      "RangeIndex: 12261 entries, 0 to 12260\n",
      "Data columns (total 3 columns):\n",
      " #   Column       Non-Null Count  Dtype  \n",
      "---  ------       --------------  -----  \n",
      " 0   list_price   12261 non-null  float64\n",
      " 1   piece_count  12261 non-null  int64  \n",
      " 2   ages         12261 non-null  int64  \n",
      "dtypes: float64(1), int64(2)\n",
      "memory usage: 287.5 KB\n"
     ]
    }
   ],
   "source": [
    "# Create subset with price, ages, and piece variables\n",
    "\n",
    "mlr_data = lego[['list_price','piece_count','ages']]\n",
    "\n",
    "mlr_data.info()"
   ]
  },
  {
   "cell_type": "code",
   "execution_count": 42,
   "id": "ecdd1827-9328-4216-8ae2-2ee784e3753c",
   "metadata": {},
   "outputs": [
    {
     "data": {
      "text/html": [
       "<div>\n",
       "<style scoped>\n",
       "    .dataframe tbody tr th:only-of-type {\n",
       "        vertical-align: middle;\n",
       "    }\n",
       "\n",
       "    .dataframe tbody tr th {\n",
       "        vertical-align: top;\n",
       "    }\n",
       "\n",
       "    .dataframe thead th {\n",
       "        text-align: right;\n",
       "    }\n",
       "</style>\n",
       "<table border=\"1\" class=\"dataframe\">\n",
       "  <thead>\n",
       "    <tr style=\"text-align: right;\">\n",
       "      <th></th>\n",
       "      <th>list_price</th>\n",
       "      <th>piece_count</th>\n",
       "      <th>ages</th>\n",
       "    </tr>\n",
       "  </thead>\n",
       "  <tbody>\n",
       "    <tr>\n",
       "      <th>0</th>\n",
       "      <td>29.99</td>\n",
       "      <td>277</td>\n",
       "      <td>19</td>\n",
       "    </tr>\n",
       "    <tr>\n",
       "      <th>1</th>\n",
       "      <td>19.99</td>\n",
       "      <td>168</td>\n",
       "      <td>19</td>\n",
       "    </tr>\n",
       "    <tr>\n",
       "      <th>2</th>\n",
       "      <td>12.99</td>\n",
       "      <td>74</td>\n",
       "      <td>19</td>\n",
       "    </tr>\n",
       "    <tr>\n",
       "      <th>3</th>\n",
       "      <td>99.99</td>\n",
       "      <td>1032</td>\n",
       "      <td>5</td>\n",
       "    </tr>\n",
       "    <tr>\n",
       "      <th>4</th>\n",
       "      <td>79.99</td>\n",
       "      <td>744</td>\n",
       "      <td>5</td>\n",
       "    </tr>\n",
       "  </tbody>\n",
       "</table>\n",
       "</div>"
      ],
      "text/plain": [
       "   list_price  piece_count  ages\n",
       "0       29.99          277    19\n",
       "1       19.99          168    19\n",
       "2       12.99           74    19\n",
       "3       99.99         1032     5\n",
       "4       79.99          744     5"
      ]
     },
     "execution_count": 42,
     "metadata": {},
     "output_type": "execute_result"
    }
   ],
   "source": [
    "mlr_data.head()"
   ]
  },
  {
   "cell_type": "code",
   "execution_count": 43,
   "id": "7ec56169-72a8-4d81-838a-fcacafbeeb2f",
   "metadata": {},
   "outputs": [
    {
     "data": {
      "text/html": [
       "<div>\n",
       "<style scoped>\n",
       "    .dataframe tbody tr th:only-of-type {\n",
       "        vertical-align: middle;\n",
       "    }\n",
       "\n",
       "    .dataframe tbody tr th {\n",
       "        vertical-align: top;\n",
       "    }\n",
       "\n",
       "    .dataframe thead th {\n",
       "        text-align: right;\n",
       "    }\n",
       "</style>\n",
       "<table border=\"1\" class=\"dataframe\">\n",
       "  <thead>\n",
       "    <tr style=\"text-align: right;\">\n",
       "      <th></th>\n",
       "      <th>list_price</th>\n",
       "      <th>piece_count</th>\n",
       "      <th>ages</th>\n",
       "    </tr>\n",
       "  </thead>\n",
       "  <tbody>\n",
       "    <tr>\n",
       "      <th>count</th>\n",
       "      <td>12261.00</td>\n",
       "      <td>12261.00</td>\n",
       "      <td>12261.00</td>\n",
       "    </tr>\n",
       "    <tr>\n",
       "      <th>mean</th>\n",
       "      <td>65.14</td>\n",
       "      <td>493.41</td>\n",
       "      <td>16.69</td>\n",
       "    </tr>\n",
       "    <tr>\n",
       "      <th>std</th>\n",
       "      <td>91.98</td>\n",
       "      <td>825.36</td>\n",
       "      <td>8.22</td>\n",
       "    </tr>\n",
       "    <tr>\n",
       "      <th>min</th>\n",
       "      <td>2.27</td>\n",
       "      <td>1.00</td>\n",
       "      <td>0.00</td>\n",
       "    </tr>\n",
       "    <tr>\n",
       "      <th>25%</th>\n",
       "      <td>19.99</td>\n",
       "      <td>97.00</td>\n",
       "      <td>11.00</td>\n",
       "    </tr>\n",
       "    <tr>\n",
       "      <th>50%</th>\n",
       "      <td>36.59</td>\n",
       "      <td>216.00</td>\n",
       "      <td>19.00</td>\n",
       "    </tr>\n",
       "    <tr>\n",
       "      <th>75%</th>\n",
       "      <td>70.19</td>\n",
       "      <td>544.00</td>\n",
       "      <td>23.00</td>\n",
       "    </tr>\n",
       "    <tr>\n",
       "      <th>max</th>\n",
       "      <td>1104.87</td>\n",
       "      <td>7541.00</td>\n",
       "      <td>30.00</td>\n",
       "    </tr>\n",
       "  </tbody>\n",
       "</table>\n",
       "</div>"
      ],
      "text/plain": [
       "       list_price  piece_count      ages\n",
       "count    12261.00     12261.00  12261.00\n",
       "mean        65.14       493.41     16.69\n",
       "std         91.98       825.36      8.22\n",
       "min          2.27         1.00      0.00\n",
       "25%         19.99        97.00     11.00\n",
       "50%         36.59       216.00     19.00\n",
       "75%         70.19       544.00     23.00\n",
       "max       1104.87      7541.00     30.00"
      ]
     },
     "execution_count": 43,
     "metadata": {},
     "output_type": "execute_result"
    }
   ],
   "source": [
    "round(mlr_data.describe(),2)"
   ]
  },
  {
   "cell_type": "markdown",
   "id": "473d11e9-0d3f-4908-b092-684a161309d3",
   "metadata": {},
   "source": [
    "## 2. Split the data into train (70%) and test (30%) data to ensure maximum model performance\n",
    "\n",
    "The regression model should be run on training and testing data sets to ensure the model performance is accurate."
   ]
  },
  {
   "cell_type": "code",
   "execution_count": 44,
   "id": "73baa463-6ed0-4351-8ffa-bc8a98a10e9b",
   "metadata": {},
   "outputs": [],
   "source": [
    "# Independent variable\n",
    "X = mlr_data[['piece_count', 'ages']]\n",
    "\n",
    "# Dependent variable\n",
    "y = mlr_data['list_price'] "
   ]
  },
  {
   "cell_type": "code",
   "execution_count": 45,
   "id": "cb1ca9b1-5f1d-4ad9-ad70-fd6c7143286a",
   "metadata": {},
   "outputs": [],
   "source": [
    "# create train and test data sets\n",
    "X_train, X_test, y_train, y_test = train_test_split(X, y, test_size=0.3, random_state=5)"
   ]
  },
  {
   "cell_type": "markdown",
   "id": "6acf1a42-b7ba-41d4-80b6-82d33d83f0b6",
   "metadata": {},
   "source": [
    "## 3. Fit Multiple Linear Regression model with Training dataset"
   ]
  },
  {
   "cell_type": "code",
   "execution_count": 46,
   "id": "dc55eac5-cb6b-4fda-b566-a161b88f1e7a",
   "metadata": {},
   "outputs": [
    {
     "data": {
      "text/html": [
       "<style>#sk-container-id-3 {color: black;background-color: white;}#sk-container-id-3 pre{padding: 0;}#sk-container-id-3 div.sk-toggleable {background-color: white;}#sk-container-id-3 label.sk-toggleable__label {cursor: pointer;display: block;width: 100%;margin-bottom: 0;padding: 0.3em;box-sizing: border-box;text-align: center;}#sk-container-id-3 label.sk-toggleable__label-arrow:before {content: \"▸\";float: left;margin-right: 0.25em;color: #696969;}#sk-container-id-3 label.sk-toggleable__label-arrow:hover:before {color: black;}#sk-container-id-3 div.sk-estimator:hover label.sk-toggleable__label-arrow:before {color: black;}#sk-container-id-3 div.sk-toggleable__content {max-height: 0;max-width: 0;overflow: hidden;text-align: left;background-color: #f0f8ff;}#sk-container-id-3 div.sk-toggleable__content pre {margin: 0.2em;color: black;border-radius: 0.25em;background-color: #f0f8ff;}#sk-container-id-3 input.sk-toggleable__control:checked~div.sk-toggleable__content {max-height: 200px;max-width: 100%;overflow: auto;}#sk-container-id-3 input.sk-toggleable__control:checked~label.sk-toggleable__label-arrow:before {content: \"▾\";}#sk-container-id-3 div.sk-estimator input.sk-toggleable__control:checked~label.sk-toggleable__label {background-color: #d4ebff;}#sk-container-id-3 div.sk-label input.sk-toggleable__control:checked~label.sk-toggleable__label {background-color: #d4ebff;}#sk-container-id-3 input.sk-hidden--visually {border: 0;clip: rect(1px 1px 1px 1px);clip: rect(1px, 1px, 1px, 1px);height: 1px;margin: -1px;overflow: hidden;padding: 0;position: absolute;width: 1px;}#sk-container-id-3 div.sk-estimator {font-family: monospace;background-color: #f0f8ff;border: 1px dotted black;border-radius: 0.25em;box-sizing: border-box;margin-bottom: 0.5em;}#sk-container-id-3 div.sk-estimator:hover {background-color: #d4ebff;}#sk-container-id-3 div.sk-parallel-item::after {content: \"\";width: 100%;border-bottom: 1px solid gray;flex-grow: 1;}#sk-container-id-3 div.sk-label:hover label.sk-toggleable__label {background-color: #d4ebff;}#sk-container-id-3 div.sk-serial::before {content: \"\";position: absolute;border-left: 1px solid gray;box-sizing: border-box;top: 0;bottom: 0;left: 50%;z-index: 0;}#sk-container-id-3 div.sk-serial {display: flex;flex-direction: column;align-items: center;background-color: white;padding-right: 0.2em;padding-left: 0.2em;position: relative;}#sk-container-id-3 div.sk-item {position: relative;z-index: 1;}#sk-container-id-3 div.sk-parallel {display: flex;align-items: stretch;justify-content: center;background-color: white;position: relative;}#sk-container-id-3 div.sk-item::before, #sk-container-id-3 div.sk-parallel-item::before {content: \"\";position: absolute;border-left: 1px solid gray;box-sizing: border-box;top: 0;bottom: 0;left: 50%;z-index: -1;}#sk-container-id-3 div.sk-parallel-item {display: flex;flex-direction: column;z-index: 1;position: relative;background-color: white;}#sk-container-id-3 div.sk-parallel-item:first-child::after {align-self: flex-end;width: 50%;}#sk-container-id-3 div.sk-parallel-item:last-child::after {align-self: flex-start;width: 50%;}#sk-container-id-3 div.sk-parallel-item:only-child::after {width: 0;}#sk-container-id-3 div.sk-dashed-wrapped {border: 1px dashed gray;margin: 0 0.4em 0.5em 0.4em;box-sizing: border-box;padding-bottom: 0.4em;background-color: white;}#sk-container-id-3 div.sk-label label {font-family: monospace;font-weight: bold;display: inline-block;line-height: 1.2em;}#sk-container-id-3 div.sk-label-container {text-align: center;}#sk-container-id-3 div.sk-container {/* jupyter's `normalize.less` sets `[hidden] { display: none; }` but bootstrap.min.css set `[hidden] { display: none !important; }` so we also need the `!important` here to be able to override the default hidden behavior on the sphinx rendered scikit-learn.org. See: https://github.com/scikit-learn/scikit-learn/issues/21755 */display: inline-block !important;position: relative;}#sk-container-id-3 div.sk-text-repr-fallback {display: none;}</style><div id=\"sk-container-id-3\" class=\"sk-top-container\"><div class=\"sk-text-repr-fallback\"><pre>LinearRegression()</pre><b>In a Jupyter environment, please rerun this cell to show the HTML representation or trust the notebook. <br />On GitHub, the HTML representation is unable to render, please try loading this page with nbviewer.org.</b></div><div class=\"sk-container\" hidden><div class=\"sk-item\"><div class=\"sk-estimator sk-toggleable\"><input class=\"sk-toggleable__control sk-hidden--visually\" id=\"sk-estimator-id-3\" type=\"checkbox\" checked><label for=\"sk-estimator-id-3\" class=\"sk-toggleable__label sk-toggleable__label-arrow\">LinearRegression</label><div class=\"sk-toggleable__content\"><pre>LinearRegression()</pre></div></div></div></div></div>"
      ],
      "text/plain": [
       "LinearRegression()"
      ]
     },
     "execution_count": 46,
     "metadata": {},
     "output_type": "execute_result"
    }
   ],
   "source": [
    "# Fit linear regression model\n",
    "mlr = LinearRegression()\n",
    "\n",
    "# Fit the model\n",
    "mlr.fit(X_train, y_train)"
   ]
  },
  {
   "cell_type": "code",
   "execution_count": 47,
   "id": "a228fe1a-79a9-4b6e-a119-59c9e80d1556",
   "metadata": {},
   "outputs": [
    {
     "data": {
      "text/plain": [
       "array([105.31946916,  38.79803594,  25.21506289, ...,  28.52852519,\n",
       "        26.36951271,  44.92267922])"
      ]
     },
     "execution_count": 47,
     "metadata": {},
     "output_type": "execute_result"
    }
   ],
   "source": [
    "# Call predictions for x array\n",
    "mlr.predict(X_train)"
   ]
  },
  {
   "cell_type": "code",
   "execution_count": 48,
   "id": "9ccc0c5d-a064-4abc-8764-e5308ecdfd7b",
   "metadata": {},
   "outputs": [
    {
     "data": {
      "text/plain": [
       "8582"
      ]
     },
     "execution_count": 48,
     "metadata": {},
     "output_type": "execute_result"
    }
   ],
   "source": [
    "len(mlr.predict(X_train))"
   ]
  },
  {
   "cell_type": "code",
   "execution_count": 49,
   "id": "1876b19d-c323-40d0-9fa4-601da7673e70",
   "metadata": {},
   "outputs": [
    {
     "name": "stdout",
     "output_type": "stream",
     "text": [
      "R-squared:  0.7681985466459664\n",
      "Intercept:  16.985596749203417\n",
      "Coefficients:\n"
     ]
    },
    {
     "data": {
      "text/plain": [
       "[('piece_count', 0.09569755116044504), ('ages', 0.02987278094702156)]"
      ]
     },
     "execution_count": 49,
     "metadata": {},
     "output_type": "execute_result"
    }
   ],
   "source": [
    "# Checking the value of R-squared, intercept and coefficients\n",
    "print(\"R-squared: \", mlr.score(X_train, y_train)) # Print the R-squared value\n",
    "print(\"Intercept: \", mlr.intercept_) # Print the intercepts\n",
    "print(\"Coefficients:\") # Print coefficients\n",
    "list(zip(X_train, mlr.coef_)) # Map similar index of multiple containers"
   ]
  },
  {
   "cell_type": "markdown",
   "id": "b171d60d-a508-4c37-a7fd-59f42ab12c55",
   "metadata": {},
   "source": [
    "R-squared is quite strong where the independent variable, pieces and age, explains 76% variation of the dependent variable, price. "
   ]
  },
  {
   "cell_type": "markdown",
   "id": "c26c757f-2747-45c7-ac5b-d4e9120ed046",
   "metadata": {},
   "source": [
    "Coefficient is the amount increase in price (dependent variable) when 1 unit increase in piece or age (independent variable)."
   ]
  },
  {
   "cell_type": "code",
   "execution_count": 50,
   "id": "a430d545-7c68-48f7-96fd-61192f68280f",
   "metadata": {},
   "outputs": [
    {
     "name": "stdout",
     "output_type": "stream",
     "text": [
      "Predicted Value: \n",
      " [783.46218946]\n"
     ]
    },
    {
     "name": "stderr",
     "output_type": "stream",
     "text": [
      "/Users/hazel/opt/anaconda3/lib/python3.9/site-packages/sklearn/base.py:450: UserWarning: X does not have valid feature names, but LinearRegression was fitted with feature names\n",
      "  warnings.warn(\n"
     ]
    }
   ],
   "source": [
    "# Make predictions\n",
    "# Set a variable as 8000 pieces\n",
    "New_pieces = 8000\n",
    "\n",
    "# Set a variable as 30 year old\n",
    "New_age = 30\n",
    "\n",
    "# Print the predicted price value\n",
    "print ('Predicted Value: \\n', mlr.predict([[New_pieces, New_age]]))  "
   ]
  },
  {
   "cell_type": "markdown",
   "id": "5100bcd9-f3f4-4cce-abcb-6768903d3450",
   "metadata": {},
   "source": [
    "## 2. Test the model "
   ]
  },
  {
   "cell_type": "code",
   "execution_count": 51,
   "id": "d44cdb34-f068-4b7f-9193-c3d6d12ae72f",
   "metadata": {},
   "outputs": [
    {
     "data": {
      "text/html": [
       "<style>#sk-container-id-4 {color: black;background-color: white;}#sk-container-id-4 pre{padding: 0;}#sk-container-id-4 div.sk-toggleable {background-color: white;}#sk-container-id-4 label.sk-toggleable__label {cursor: pointer;display: block;width: 100%;margin-bottom: 0;padding: 0.3em;box-sizing: border-box;text-align: center;}#sk-container-id-4 label.sk-toggleable__label-arrow:before {content: \"▸\";float: left;margin-right: 0.25em;color: #696969;}#sk-container-id-4 label.sk-toggleable__label-arrow:hover:before {color: black;}#sk-container-id-4 div.sk-estimator:hover label.sk-toggleable__label-arrow:before {color: black;}#sk-container-id-4 div.sk-toggleable__content {max-height: 0;max-width: 0;overflow: hidden;text-align: left;background-color: #f0f8ff;}#sk-container-id-4 div.sk-toggleable__content pre {margin: 0.2em;color: black;border-radius: 0.25em;background-color: #f0f8ff;}#sk-container-id-4 input.sk-toggleable__control:checked~div.sk-toggleable__content {max-height: 200px;max-width: 100%;overflow: auto;}#sk-container-id-4 input.sk-toggleable__control:checked~label.sk-toggleable__label-arrow:before {content: \"▾\";}#sk-container-id-4 div.sk-estimator input.sk-toggleable__control:checked~label.sk-toggleable__label {background-color: #d4ebff;}#sk-container-id-4 div.sk-label input.sk-toggleable__control:checked~label.sk-toggleable__label {background-color: #d4ebff;}#sk-container-id-4 input.sk-hidden--visually {border: 0;clip: rect(1px 1px 1px 1px);clip: rect(1px, 1px, 1px, 1px);height: 1px;margin: -1px;overflow: hidden;padding: 0;position: absolute;width: 1px;}#sk-container-id-4 div.sk-estimator {font-family: monospace;background-color: #f0f8ff;border: 1px dotted black;border-radius: 0.25em;box-sizing: border-box;margin-bottom: 0.5em;}#sk-container-id-4 div.sk-estimator:hover {background-color: #d4ebff;}#sk-container-id-4 div.sk-parallel-item::after {content: \"\";width: 100%;border-bottom: 1px solid gray;flex-grow: 1;}#sk-container-id-4 div.sk-label:hover label.sk-toggleable__label {background-color: #d4ebff;}#sk-container-id-4 div.sk-serial::before {content: \"\";position: absolute;border-left: 1px solid gray;box-sizing: border-box;top: 0;bottom: 0;left: 50%;z-index: 0;}#sk-container-id-4 div.sk-serial {display: flex;flex-direction: column;align-items: center;background-color: white;padding-right: 0.2em;padding-left: 0.2em;position: relative;}#sk-container-id-4 div.sk-item {position: relative;z-index: 1;}#sk-container-id-4 div.sk-parallel {display: flex;align-items: stretch;justify-content: center;background-color: white;position: relative;}#sk-container-id-4 div.sk-item::before, #sk-container-id-4 div.sk-parallel-item::before {content: \"\";position: absolute;border-left: 1px solid gray;box-sizing: border-box;top: 0;bottom: 0;left: 50%;z-index: -1;}#sk-container-id-4 div.sk-parallel-item {display: flex;flex-direction: column;z-index: 1;position: relative;background-color: white;}#sk-container-id-4 div.sk-parallel-item:first-child::after {align-self: flex-end;width: 50%;}#sk-container-id-4 div.sk-parallel-item:last-child::after {align-self: flex-start;width: 50%;}#sk-container-id-4 div.sk-parallel-item:only-child::after {width: 0;}#sk-container-id-4 div.sk-dashed-wrapped {border: 1px dashed gray;margin: 0 0.4em 0.5em 0.4em;box-sizing: border-box;padding-bottom: 0.4em;background-color: white;}#sk-container-id-4 div.sk-label label {font-family: monospace;font-weight: bold;display: inline-block;line-height: 1.2em;}#sk-container-id-4 div.sk-label-container {text-align: center;}#sk-container-id-4 div.sk-container {/* jupyter's `normalize.less` sets `[hidden] { display: none; }` but bootstrap.min.css set `[hidden] { display: none !important; }` so we also need the `!important` here to be able to override the default hidden behavior on the sphinx rendered scikit-learn.org. See: https://github.com/scikit-learn/scikit-learn/issues/21755 */display: inline-block !important;position: relative;}#sk-container-id-4 div.sk-text-repr-fallback {display: none;}</style><div id=\"sk-container-id-4\" class=\"sk-top-container\"><div class=\"sk-text-repr-fallback\"><pre>LinearRegression()</pre><b>In a Jupyter environment, please rerun this cell to show the HTML representation or trust the notebook. <br />On GitHub, the HTML representation is unable to render, please try loading this page with nbviewer.org.</b></div><div class=\"sk-container\" hidden><div class=\"sk-item\"><div class=\"sk-estimator sk-toggleable\"><input class=\"sk-toggleable__control sk-hidden--visually\" id=\"sk-estimator-id-4\" type=\"checkbox\" checked><label for=\"sk-estimator-id-4\" class=\"sk-toggleable__label sk-toggleable__label-arrow\">LinearRegression</label><div class=\"sk-toggleable__content\"><pre>LinearRegression()</pre></div></div></div></div></div>"
      ],
      "text/plain": [
       "LinearRegression()"
      ]
     },
     "execution_count": 51,
     "metadata": {},
     "output_type": "execute_result"
    }
   ],
   "source": [
    "# Fit the model\n",
    "mlr.fit(X_test, y_test)"
   ]
  },
  {
   "cell_type": "code",
   "execution_count": 52,
   "id": "7b8952ae-38a2-44ab-b7bf-edf82ea406db",
   "metadata": {},
   "outputs": [
    {
     "data": {
      "text/plain": [
       "array([ 71.90885633, 152.50147237,  28.35292912, ...,  17.77607882,\n",
       "        79.03487454,  71.46921704])"
      ]
     },
     "execution_count": 52,
     "metadata": {},
     "output_type": "execute_result"
    }
   ],
   "source": [
    "# Call predictions for x array\n",
    "mlr.predict(X_test)"
   ]
  },
  {
   "cell_type": "code",
   "execution_count": 53,
   "id": "c7f8f90a-b314-474e-a2d4-c3751db43f9e",
   "metadata": {},
   "outputs": [
    {
     "data": {
      "text/plain": [
       "3679"
      ]
     },
     "execution_count": 53,
     "metadata": {},
     "output_type": "execute_result"
    }
   ],
   "source": [
    "len(mlr.predict(X_test))"
   ]
  },
  {
   "cell_type": "code",
   "execution_count": 54,
   "id": "25b8a630-69fa-4b56-8bf4-e4256c3c3991",
   "metadata": {},
   "outputs": [
    {
     "name": "stdout",
     "output_type": "stream",
     "text": [
      "R-squared:  0.7344069243325273\n",
      "Intercept:  16.516853988947737\n",
      "Coefficients:\n"
     ]
    },
    {
     "data": {
      "text/plain": [
       "[('piece_count', 0.09961851206458482), ('ages', 0.029226634168314652)]"
      ]
     },
     "execution_count": 54,
     "metadata": {},
     "output_type": "execute_result"
    }
   ],
   "source": [
    "# Checking the value of R-squared, intercept and coefficients\n",
    "print(\"R-squared: \", mlr.score(X_test, y_test)) # Print the R-squared value\n",
    "print(\"Intercept: \", mlr.intercept_) # Print the intercepts\n",
    "print(\"Coefficients:\") # Print coefficients\n",
    "list(zip(X_test, mlr.coef_)) # Map similar index of multiple containers"
   ]
  },
  {
   "cell_type": "markdown",
   "id": "3db089a1-5a74-4fd5-b0df-2df764686d28",
   "metadata": {},
   "source": [
    "R-squared of 0.73 signifies 73% of the variation in price (y dependent variable) can be explained by age of customer and pieces in lego products (x independent variables)."
   ]
  },
  {
   "cell_type": "code",
   "execution_count": 55,
   "id": "07d6c0cb-6449-4eca-9107-fe119e8625ba",
   "metadata": {},
   "outputs": [
    {
     "name": "stdout",
     "output_type": "stream",
     "text": [
      "Predicted Value: \n",
      " [814.34174953]\n"
     ]
    },
    {
     "name": "stderr",
     "output_type": "stream",
     "text": [
      "/Users/hazel/opt/anaconda3/lib/python3.9/site-packages/sklearn/base.py:450: UserWarning: X does not have valid feature names, but LinearRegression was fitted with feature names\n",
      "  warnings.warn(\n"
     ]
    }
   ],
   "source": [
    "# Make predictions\n",
    "# Set a variable as 8000 pieces\n",
    "New_pieces2 = 8000\n",
    "\n",
    "# Set a variable as 30 year old\n",
    "New_age2 = 30\n",
    "\n",
    "# Print the predicted price value\n",
    "print ('Predicted Value: \\n', mlr.predict([[New_pieces2, New_age2]]))  "
   ]
  },
  {
   "cell_type": "markdown",
   "id": "5da09aa4-0720-46f2-8783-8045c0f582a4",
   "metadata": {},
   "source": [
    "**Report:** According to the test model, the predicted price of a lego product with 8000 pieces purchased by 30 year old customers is USD 814."
   ]
  },
  {
   "cell_type": "markdown",
   "id": "7bc46a68-217f-436c-80c8-7b60c7999044",
   "metadata": {
    "tags": []
   },
   "source": [
    "## OLS. Training and testing subsets with MLR"
   ]
  },
  {
   "cell_type": "code",
   "execution_count": 56,
   "id": "592a1b5e-5ee9-4af6-99ca-1535a356122c",
   "metadata": {},
   "outputs": [
    {
     "name": "stdout",
     "output_type": "stream",
     "text": [
      "                            OLS Regression Results                            \n",
      "==============================================================================\n",
      "Dep. Variable:             list_price   R-squared:                       0.768\n",
      "Model:                            OLS   Adj. R-squared:                  0.768\n",
      "Method:                 Least Squares   F-statistic:                 1.422e+04\n",
      "Date:                Sun, 03 Jul 2022   Prob (F-statistic):               0.00\n",
      "Time:                        23:05:46   Log-Likelihood:                -44428.\n",
      "No. Observations:                8582   AIC:                         8.886e+04\n",
      "Df Residuals:                    8579   BIC:                         8.888e+04\n",
      "Df Model:                           2                                         \n",
      "Covariance Type:            nonrobust                                         \n",
      "===============================================================================\n",
      "                  coef    std err          t      P>|t|      [0.025      0.975]\n",
      "-------------------------------------------------------------------------------\n",
      "const          16.9856      1.107     15.341      0.000      14.815      19.156\n",
      "piece_count     0.0957      0.001    167.909      0.000       0.095       0.097\n",
      "ages            0.0299      0.056      0.530      0.596      -0.081       0.140\n",
      "==============================================================================\n",
      "Omnibus:                     9842.577   Durbin-Watson:                   1.962\n",
      "Prob(Omnibus):                  0.000   Jarque-Bera (JB):          1530257.494\n",
      "Skew:                           5.830   Prob(JB):                         0.00\n",
      "Kurtosis:                      67.370   Cond. No.                     2.28e+03\n",
      "==============================================================================\n",
      "\n",
      "Notes:\n",
      "[1] Standard Errors assume that the covariance matrix of the errors is correctly specified.\n",
      "[2] The condition number is large, 2.28e+03. This might indicate that there are\n",
      "strong multicollinearity or other numerical problems.\n"
     ]
    },
    {
     "name": "stderr",
     "output_type": "stream",
     "text": [
      "/Users/hazel/opt/anaconda3/lib/python3.9/site-packages/statsmodels/tsa/tsatools.py:142: FutureWarning: In a future version of pandas all arguments of concat except for the argument 'objs' will be keyword-only\n",
      "  x = pd.concat(x[::order], 1)\n"
     ]
    }
   ],
   "source": [
    "# Training the model using the 'statsmodel' OLS Library\n",
    "model = sm.OLS(y_train, sm.add_constant(X_train)).fit()\n",
    "Y_pred = model.predict(sm.add_constant(X_train))\n",
    "print_model = model.summary()\n",
    "\n",
    "print(print_model)"
   ]
  },
  {
   "cell_type": "markdown",
   "id": "569c1512-04b5-494a-b222-92825fdf03c3",
   "metadata": {},
   "source": [
    "The small the standard error the better, more precise estimates of the predictions.\n",
    "\n",
    "Smaller standard error, the larger the t-value would be."
   ]
  },
  {
   "cell_type": "code",
   "execution_count": 57,
   "id": "38cc8ac3-c2c7-4219-9dae-38327cc4d4e6",
   "metadata": {},
   "outputs": [
    {
     "name": "stdout",
     "output_type": "stream",
     "text": [
      "                            OLS Regression Results                            \n",
      "==============================================================================\n",
      "Dep. Variable:             list_price   R-squared:                       0.734\n",
      "Model:                            OLS   Adj. R-squared:                  0.734\n",
      "Method:                 Least Squares   F-statistic:                     5082.\n",
      "Date:                Sun, 03 Jul 2022   Prob (F-statistic):               0.00\n",
      "Time:                        23:05:46   Log-Likelihood:                -19669.\n",
      "No. Observations:                3679   AIC:                         3.934e+04\n",
      "Df Residuals:                    3676   BIC:                         3.936e+04\n",
      "Df Model:                           2                                         \n",
      "Covariance Type:            nonrobust                                         \n",
      "===============================================================================\n",
      "                  coef    std err          t      P>|t|      [0.025      0.975]\n",
      "-------------------------------------------------------------------------------\n",
      "const          16.5169      2.017      8.190      0.000      12.563      20.471\n",
      "piece_count     0.0996      0.001    100.451      0.000       0.098       0.102\n",
      "ages            0.0292      0.103      0.283      0.777      -0.173       0.231\n",
      "==============================================================================\n",
      "Omnibus:                     4114.869   Durbin-Watson:                   2.005\n",
      "Prob(Omnibus):                  0.000   Jarque-Bera (JB):           485877.093\n",
      "Skew:                           5.612   Prob(JB):                         0.00\n",
      "Kurtosis:                      58.169   Cond. No.                     2.37e+03\n",
      "==============================================================================\n",
      "\n",
      "Notes:\n",
      "[1] Standard Errors assume that the covariance matrix of the errors is correctly specified.\n",
      "[2] The condition number is large, 2.37e+03. This might indicate that there are\n",
      "strong multicollinearity or other numerical problems.\n"
     ]
    },
    {
     "name": "stderr",
     "output_type": "stream",
     "text": [
      "/Users/hazel/opt/anaconda3/lib/python3.9/site-packages/statsmodels/tsa/tsatools.py:142: FutureWarning: In a future version of pandas all arguments of concat except for the argument 'objs' will be keyword-only\n",
      "  x = pd.concat(x[::order], 1)\n"
     ]
    }
   ],
   "source": [
    "# Training the model using the 'statsmodel' OLS Library\n",
    "model = sm.OLS(y_test, sm.add_constant(X_test)).fit()\n",
    "Y_pred = model.predict(sm.add_constant(X_test))\n",
    "print_model = model.summary()\n",
    "\n",
    "print(print_model)"
   ]
  }
 ],
 "metadata": {
  "kernelspec": {
   "display_name": "Python 3 (ipykernel)",
   "language": "python",
   "name": "python3"
  },
  "language_info": {
   "codemirror_mode": {
    "name": "ipython",
    "version": 3
   },
   "file_extension": ".py",
   "mimetype": "text/x-python",
   "name": "python",
   "nbconvert_exporter": "python",
   "pygments_lexer": "ipython3",
   "version": "3.9.7"
  }
 },
 "nbformat": 4,
 "nbformat_minor": 5
}
