{
 "cells": [
  {
   "cell_type": "markdown",
   "id": "3eeeb827-cce4-4c97-8679-f2a57b336049",
   "metadata": {},
   "source": [
    "# Assignment 3"
   ]
  },
  {
   "cell_type": "markdown",
   "id": "35c61faa-3850-4c89-a254-401c16a6cb8b",
   "metadata": {},
   "source": [
    "Objective: improve overall sales performance"
   ]
  },
  {
   "cell_type": "markdown",
   "id": "3af83ae7-169f-454e-ac25-23cc0abb1d60",
   "metadata": {},
   "source": [
    "## Week 1\n",
    "\n",
    "* the price at which they should sell particular products (Week 1)\n",
    "\n",
    "1. What price should be set for the Lego sets with 8000 Lego pieces? (Simple linear regression)\n",
    "2. What price should be set for the Lego sets with 8000 Lego pieces that are most likely to be purchased by 30-year-old customers? (Multiple linear regression)"
   ]
  },
  {
   "cell_type": "code",
   "execution_count": 20,
   "id": "1eddf2d6-4e93-478a-89b5-8c901c06c13a",
   "metadata": {},
   "outputs": [],
   "source": [
    "# Import all the necessary packages\n",
    "import numpy as np\n",
    "import pandas as pd\n",
    "import statsmodels.api as sm\n",
    "import statsmodels.stats.api as sms\n",
    "import sklearn\n",
    "import matplotlib.pyplot as plt\n",
    "\n",
    "from sklearn import datasets \n",
    "from sklearn import linear_model\n",
    "from statsmodels.stats.outliers_influence import variance_inflation_factor\n",
    "from sklearn.model_selection import train_test_split\n",
    "from sklearn import metrics\n",
    "from sklearn.linear_model import LinearRegression\n",
    "from statsmodels.formula.api import ols"
   ]
  },
  {
   "cell_type": "code",
   "execution_count": 21,
   "id": "9f11c6e4-54d2-4999-ac9e-19eb7c287919",
   "metadata": {},
   "outputs": [
    {
     "name": "stdout",
     "output_type": "stream",
     "text": [
      "/Users/hazel/Documents/LSE Data Analytics/Course 3 - Advanced Analytics/Assignment 3\n"
     ]
    }
   ],
   "source": [
    "# Define directory\n",
    "!pwd"
   ]
  },
  {
   "cell_type": "code",
   "execution_count": 22,
   "id": "76c33ab7-692f-4425-90c4-3ce815cc2cbc",
   "metadata": {},
   "outputs": [],
   "source": [
    "# Assign variable\n",
    "dir = '/Users/hazel/Documents/LSE Data Analytics/Course 3 - Advanced Analytics/Assignment 3/game_data/'"
   ]
  },
  {
   "cell_type": "markdown",
   "id": "969900ed-06e7-4548-9699-34b3f55f271c",
   "metadata": {},
   "source": [
    "## 1. Import file"
   ]
  },
  {
   "cell_type": "code",
   "execution_count": 23,
   "id": "b29a8f61-42ab-495b-ace5-485dbdd172dc",
   "metadata": {},
   "outputs": [],
   "source": [
    "# Import data set\n",
    "lego = pd.read_csv(dir + 'lego.csv')"
   ]
  },
  {
   "cell_type": "code",
   "execution_count": 24,
   "id": "73cc52aa-2115-4da8-9d17-4a262f180e74",
   "metadata": {},
   "outputs": [
    {
     "data": {
      "text/html": [
       "<div>\n",
       "<style scoped>\n",
       "    .dataframe tbody tr th:only-of-type {\n",
       "        vertical-align: middle;\n",
       "    }\n",
       "\n",
       "    .dataframe tbody tr th {\n",
       "        vertical-align: top;\n",
       "    }\n",
       "\n",
       "    .dataframe thead th {\n",
       "        text-align: right;\n",
       "    }\n",
       "</style>\n",
       "<table border=\"1\" class=\"dataframe\">\n",
       "  <thead>\n",
       "    <tr style=\"text-align: right;\">\n",
       "      <th></th>\n",
       "      <th>ages</th>\n",
       "      <th>list_price</th>\n",
       "      <th>num_reviews</th>\n",
       "      <th>piece_count</th>\n",
       "      <th>play_star_rating</th>\n",
       "      <th>review_difficulty</th>\n",
       "      <th>country</th>\n",
       "    </tr>\n",
       "  </thead>\n",
       "  <tbody>\n",
       "    <tr>\n",
       "      <th>0</th>\n",
       "      <td>19</td>\n",
       "      <td>29.99</td>\n",
       "      <td>2</td>\n",
       "      <td>277</td>\n",
       "      <td>4.0</td>\n",
       "      <td>0</td>\n",
       "      <td>20</td>\n",
       "    </tr>\n",
       "    <tr>\n",
       "      <th>1</th>\n",
       "      <td>19</td>\n",
       "      <td>19.99</td>\n",
       "      <td>2</td>\n",
       "      <td>168</td>\n",
       "      <td>4.0</td>\n",
       "      <td>2</td>\n",
       "      <td>20</td>\n",
       "    </tr>\n",
       "    <tr>\n",
       "      <th>2</th>\n",
       "      <td>19</td>\n",
       "      <td>12.99</td>\n",
       "      <td>11</td>\n",
       "      <td>74</td>\n",
       "      <td>4.3</td>\n",
       "      <td>2</td>\n",
       "      <td>20</td>\n",
       "    </tr>\n",
       "    <tr>\n",
       "      <th>3</th>\n",
       "      <td>5</td>\n",
       "      <td>99.99</td>\n",
       "      <td>23</td>\n",
       "      <td>1032</td>\n",
       "      <td>3.6</td>\n",
       "      <td>0</td>\n",
       "      <td>20</td>\n",
       "    </tr>\n",
       "    <tr>\n",
       "      <th>4</th>\n",
       "      <td>5</td>\n",
       "      <td>79.99</td>\n",
       "      <td>14</td>\n",
       "      <td>744</td>\n",
       "      <td>3.2</td>\n",
       "      <td>1</td>\n",
       "      <td>20</td>\n",
       "    </tr>\n",
       "  </tbody>\n",
       "</table>\n",
       "</div>"
      ],
      "text/plain": [
       "   ages  list_price  num_reviews  piece_count  play_star_rating  \\\n",
       "0    19       29.99            2          277               4.0   \n",
       "1    19       19.99            2          168               4.0   \n",
       "2    19       12.99           11           74               4.3   \n",
       "3     5       99.99           23         1032               3.6   \n",
       "4     5       79.99           14          744               3.2   \n",
       "\n",
       "   review_difficulty  country  \n",
       "0                  0       20  \n",
       "1                  2       20  \n",
       "2                  2       20  \n",
       "3                  0       20  \n",
       "4                  1       20  "
      ]
     },
     "execution_count": 24,
     "metadata": {},
     "output_type": "execute_result"
    }
   ],
   "source": [
    "# View data frame\n",
    "lego.head()"
   ]
  },
  {
   "cell_type": "code",
   "execution_count": 25,
   "id": "e466b111-f61d-4bcc-9590-a67ce039d394",
   "metadata": {},
   "outputs": [
    {
     "name": "stdout",
     "output_type": "stream",
     "text": [
      "<class 'pandas.core.frame.DataFrame'>\n",
      "RangeIndex: 12261 entries, 0 to 12260\n",
      "Data columns (total 7 columns):\n",
      " #   Column             Non-Null Count  Dtype  \n",
      "---  ------             --------------  -----  \n",
      " 0   ages               12261 non-null  int64  \n",
      " 1   list_price         12261 non-null  float64\n",
      " 2   num_reviews        12261 non-null  int64  \n",
      " 3   piece_count        12261 non-null  int64  \n",
      " 4   play_star_rating   12261 non-null  float64\n",
      " 5   review_difficulty  12261 non-null  int64  \n",
      " 6   country            12261 non-null  int64  \n",
      "dtypes: float64(2), int64(5)\n",
      "memory usage: 670.6 KB\n"
     ]
    }
   ],
   "source": [
    "# View metadata\n",
    "lego.info()"
   ]
  },
  {
   "cell_type": "code",
   "execution_count": 26,
   "id": "40ac15d3-fe94-4e10-bd80-d0b772909ea5",
   "metadata": {},
   "outputs": [
    {
     "data": {
      "text/plain": [
       "ages                 0\n",
       "list_price           0\n",
       "num_reviews          0\n",
       "piece_count          0\n",
       "play_star_rating     0\n",
       "review_difficulty    0\n",
       "country              0\n",
       "dtype: int64"
      ]
     },
     "execution_count": 26,
     "metadata": {},
     "output_type": "execute_result"
    }
   ],
   "source": [
    "# Check for missing values\n",
    "lego.isna().sum()"
   ]
  },
  {
   "cell_type": "markdown",
   "id": "89cf8b28-8851-481e-9647-55e5915c9433",
   "metadata": {},
   "source": [
    "## 2. Print min and max to view distribution of values"
   ]
  },
  {
   "cell_type": "code",
   "execution_count": 27,
   "id": "8c1e8839-6b22-475d-b73b-7a3cb316191e",
   "metadata": {},
   "outputs": [
    {
     "data": {
      "text/html": [
       "<div>\n",
       "<style scoped>\n",
       "    .dataframe tbody tr th:only-of-type {\n",
       "        vertical-align: middle;\n",
       "    }\n",
       "\n",
       "    .dataframe tbody tr th {\n",
       "        vertical-align: top;\n",
       "    }\n",
       "\n",
       "    .dataframe thead th {\n",
       "        text-align: right;\n",
       "    }\n",
       "</style>\n",
       "<table border=\"1\" class=\"dataframe\">\n",
       "  <thead>\n",
       "    <tr style=\"text-align: right;\">\n",
       "      <th></th>\n",
       "      <th>ages</th>\n",
       "      <th>list_price</th>\n",
       "      <th>num_reviews</th>\n",
       "      <th>piece_count</th>\n",
       "      <th>play_star_rating</th>\n",
       "      <th>review_difficulty</th>\n",
       "      <th>country</th>\n",
       "    </tr>\n",
       "  </thead>\n",
       "  <tbody>\n",
       "    <tr>\n",
       "      <th>count</th>\n",
       "      <td>12261.00</td>\n",
       "      <td>12261.00</td>\n",
       "      <td>12261.00</td>\n",
       "      <td>12261.00</td>\n",
       "      <td>12261.00</td>\n",
       "      <td>12261.00</td>\n",
       "      <td>12261.00</td>\n",
       "    </tr>\n",
       "    <tr>\n",
       "      <th>mean</th>\n",
       "      <td>16.69</td>\n",
       "      <td>65.14</td>\n",
       "      <td>14.60</td>\n",
       "      <td>493.41</td>\n",
       "      <td>3.71</td>\n",
       "      <td>1.99</td>\n",
       "      <td>10.02</td>\n",
       "    </tr>\n",
       "    <tr>\n",
       "      <th>std</th>\n",
       "      <td>8.22</td>\n",
       "      <td>91.98</td>\n",
       "      <td>34.36</td>\n",
       "      <td>825.36</td>\n",
       "      <td>1.64</td>\n",
       "      <td>1.79</td>\n",
       "      <td>6.19</td>\n",
       "    </tr>\n",
       "    <tr>\n",
       "      <th>min</th>\n",
       "      <td>0.00</td>\n",
       "      <td>2.27</td>\n",
       "      <td>0.00</td>\n",
       "      <td>1.00</td>\n",
       "      <td>0.00</td>\n",
       "      <td>0.00</td>\n",
       "      <td>0.00</td>\n",
       "    </tr>\n",
       "    <tr>\n",
       "      <th>25%</th>\n",
       "      <td>11.00</td>\n",
       "      <td>19.99</td>\n",
       "      <td>1.00</td>\n",
       "      <td>97.00</td>\n",
       "      <td>3.60</td>\n",
       "      <td>0.00</td>\n",
       "      <td>4.00</td>\n",
       "    </tr>\n",
       "    <tr>\n",
       "      <th>50%</th>\n",
       "      <td>19.00</td>\n",
       "      <td>36.59</td>\n",
       "      <td>4.00</td>\n",
       "      <td>216.00</td>\n",
       "      <td>4.40</td>\n",
       "      <td>2.00</td>\n",
       "      <td>10.00</td>\n",
       "    </tr>\n",
       "    <tr>\n",
       "      <th>75%</th>\n",
       "      <td>23.00</td>\n",
       "      <td>70.19</td>\n",
       "      <td>11.00</td>\n",
       "      <td>544.00</td>\n",
       "      <td>4.70</td>\n",
       "      <td>4.00</td>\n",
       "      <td>15.00</td>\n",
       "    </tr>\n",
       "    <tr>\n",
       "      <th>max</th>\n",
       "      <td>30.00</td>\n",
       "      <td>1104.87</td>\n",
       "      <td>367.00</td>\n",
       "      <td>7541.00</td>\n",
       "      <td>5.00</td>\n",
       "      <td>5.00</td>\n",
       "      <td>20.00</td>\n",
       "    </tr>\n",
       "  </tbody>\n",
       "</table>\n",
       "</div>"
      ],
      "text/plain": [
       "           ages  list_price  num_reviews  piece_count  play_star_rating  \\\n",
       "count  12261.00    12261.00     12261.00     12261.00          12261.00   \n",
       "mean      16.69       65.14        14.60       493.41              3.71   \n",
       "std        8.22       91.98        34.36       825.36              1.64   \n",
       "min        0.00        2.27         0.00         1.00              0.00   \n",
       "25%       11.00       19.99         1.00        97.00              3.60   \n",
       "50%       19.00       36.59         4.00       216.00              4.40   \n",
       "75%       23.00       70.19        11.00       544.00              4.70   \n",
       "max       30.00     1104.87       367.00      7541.00              5.00   \n",
       "\n",
       "       review_difficulty   country  \n",
       "count           12261.00  12261.00  \n",
       "mean                1.99     10.02  \n",
       "std                 1.79      6.19  \n",
       "min                 0.00      0.00  \n",
       "25%                 0.00      4.00  \n",
       "50%                 2.00     10.00  \n",
       "75%                 4.00     15.00  \n",
       "max                 5.00     20.00  "
      ]
     },
     "execution_count": 27,
     "metadata": {},
     "output_type": "execute_result"
    }
   ],
   "source": [
    "# Descriptive statistics\n",
    "lego.describe().round(2)"
   ]
  },
  {
   "cell_type": "code",
   "execution_count": 41,
   "id": "b53e5ea5-73b9-42cb-9557-cd9e483ec1f3",
   "metadata": {},
   "outputs": [
    {
     "data": {
      "text/plain": [
       "<AxesSubplot:>"
      ]
     },
     "execution_count": 41,
     "metadata": {},
     "output_type": "execute_result"
    },
    {
     "data": {
      "image/png": "[encoded data removed]",
      "text/plain": [
       "<Figure size 432x288 with 1 Axes>"
      ]
     },
     "metadata": {
      "needs_background": "light"
     },
     "output_type": "display_data"
    }
   ],
   "source": [
    "price = lego['list_price']\n",
    "\n",
    "price.hist(bins=5)"
   ]
  },
  {
   "cell_type": "code",
   "execution_count": 46,
   "id": "8c4ea5d0-7045-4c71-be38-25c414de34e3",
   "metadata": {},
   "outputs": [
    {
     "data": {
      "text/plain": [
       "<AxesSubplot:xlabel='piece_count', ylabel='list_price'>"
      ]
     },
     "execution_count": 46,
     "metadata": {},
     "output_type": "execute_result"
    },
    {
     "data": {
      "image/png": "[encoded data removed]",
      "text/plain": [
       "<Figure size 432x288 with 1 Axes>"
      ]
     },
     "metadata": {
      "needs_background": "light"
     },
     "output_type": "display_data"
    }
   ],
   "source": [
    "lego.plot.scatter(x='piece_count',\n",
    "                      y='list_price',\n",
    "                      c='DarkBlue')"
   ]
  },
  {
   "cell_type": "markdown",
   "id": "afd0cafe-cb95-43d3-bf6a-6a5c7275c755",
   "metadata": {},
   "source": [
    "According to histogram, the price is distributed at $200 or below.\n",
    "\n",
    "According to the scatterplot, there is a positive correlation with price and pieces as the pieces increased, price also increased."
   ]
  },
  {
   "cell_type": "markdown",
   "id": "7a9b66dd-6d02-4ca3-a715-2d4742c170c8",
   "metadata": {},
   "source": [
    "## 3. Define variables"
   ]
  },
  {
   "cell_type": "code",
   "execution_count": 58,
   "id": "de4eb0df-150b-4bb0-9199-06538dd8c592",
   "metadata": {},
   "outputs": [],
   "source": [
    "# Independent variable\n",
    "X = lego[\"piece_count\"].values.reshape(-1, 1) \n",
    "\n",
    "# Dependent variable\n",
    "y = lego[\"list_price\"].values "
   ]
  },
  {
   "cell_type": "code",
   "execution_count": 59,
   "id": "7b78d235-1ece-42bb-b10c-e25aee9c7c7c",
   "metadata": {},
   "outputs": [
    {
     "data": {
      "text/plain": [
       "<matplotlib.collections.PathCollection at 0x7f841b18e7c0>"
      ]
     },
     "execution_count": 59,
     "metadata": {},
     "output_type": "execute_result"
    },
    {
     "data": {
      "image/png": "[encoded data removed]",
      "text/plain": [
       "<Figure size 432x288 with 1 Axes>"
      ]
     },
     "metadata": {
      "needs_background": "light"
     },
     "output_type": "display_data"
    }
   ],
   "source": [
    "plt.scatter(X,y)"
   ]
  },
  {
   "cell_type": "code",
   "execution_count": 60,
   "id": "e2ef4be7-d707-4484-a463-f557ead7d27a",
   "metadata": {},
   "outputs": [],
   "source": [
    "# Split the data into training = 0.7 and testing = 0.3 subsets\n",
    "x_train, x_test, y_train, y_test = train_test_split(X, y,\n",
    "                                                    test_size=0.3,\n",
    "                                                    random_state=0)"
   ]
  },
  {
   "cell_type": "markdown",
   "id": "a592caaf-3d34-4006-8763-c4348788fe84",
   "metadata": {},
   "source": [
    "## 5. Run a linear equation"
   ]
  },
  {
   "cell_type": "code",
   "execution_count": 61,
   "id": "4fef61f2-4c7a-40ad-b45a-ac3565b2a11e",
   "metadata": {},
   "outputs": [],
   "source": [
    "# run linear regression\n",
    "lr = LinearRegression()"
   ]
  },
  {
   "cell_type": "code",
   "execution_count": 62,
   "id": "16708480-d755-48f7-a854-69a0cff0e39e",
   "metadata": {},
   "outputs": [
    {
     "data": {
      "text/plain": [
       "LinearRegression()"
      ]
     },
     "execution_count": 62,
     "metadata": {},
     "output_type": "execute_result"
    }
   ],
   "source": [
    "# fit the model on the training data\n",
    "lr.fit(x_train, y_train)"
   ]
  },
  {
   "cell_type": "code",
   "execution_count": 74,
   "id": "caaa13a0-c33a-41cd-86c1-81aed8f0fbe9",
   "metadata": {},
   "outputs": [],
   "source": [
    "# predict is used for predicting on the x_test\n",
    "y_pred = lr.predict(x_test)\n"
   ]
  },
  {
   "cell_type": "markdown",
   "id": "118a1cb7-cd57-42cb-b8a3-3f1f45a3711b",
   "metadata": {},
   "source": [
    "## 6. Plot the regression"
   ]
  },
  {
   "cell_type": "code",
   "execution_count": 64,
   "id": "52009ee9-6b83-4ccd-98c9-691c444b1694",
   "metadata": {},
   "outputs": [
    {
     "data": {
      "image/png": "[encoded data removed]",
      "text/plain": [
       "<Figure size 432x288 with 1 Axes>"
      ]
     },
     "metadata": {
      "needs_background": "light"
     },
     "output_type": "display_data"
    }
   ],
   "source": [
    "# Training Visualization\n",
    "plt.scatter(x_train, y_train, color = \"red\")\n",
    "plt.plot(x_train, lr.predict(x_train), color = \"green\")\n",
    "plt.title(\"Count of pieces vs Price (Training Data)\")\n",
    "plt.xlabel(\"Count of pieces\")\n",
    "plt.ylabel(\"Price\")\n",
    "\n",
    "plt.show()"
   ]
  },
  {
   "cell_type": "code",
   "execution_count": 69,
   "id": "c1a9ece1-0bc4-4aa7-932d-215586638b2a",
   "metadata": {},
   "outputs": [
    {
     "data": {
      "image/png": "[encoded data removed]",
      "text/plain": [
       "<Figure size 432x288 with 1 Axes>"
      ]
     },
     "metadata": {
      "needs_background": "light"
     },
     "output_type": "display_data"
    }
   ],
   "source": [
    "# Testing Visualisation\n",
    "plt.scatter(x_test, y_test, color = \"pink\")\n",
    "plt.plot(x_train, lr.predict(x_train), color = \"green\")\n",
    "plt.title(\"Count of pieces vs Price (Testing Data)\")\n",
    "plt.xlabel(\"Count of pieces\")\n",
    "plt.ylabel(\"Price\")\n",
    "\n",
    "plt.show()"
   ]
  },
  {
   "cell_type": "markdown",
   "id": "22669b8a-deb4-4512-930d-44f4281b539a",
   "metadata": {},
   "source": [
    "## 7. Print the values"
   ]
  },
  {
   "cell_type": "code",
   "execution_count": 70,
   "id": "b400fa30-8b14-48b3-8419-8b658200b294",
   "metadata": {},
   "outputs": [
    {
     "name": "stdout",
     "output_type": "stream",
     "text": [
      "0.7529271656910888\n"
     ]
    }
   ],
   "source": [
    "# Print the R-squared value\n",
    "print(lr.score(x_train,y_train))"
   ]
  },
  {
   "cell_type": "code",
   "execution_count": 71,
   "id": "762c098a-a40b-42d2-bfa0-61779d7ad98d",
   "metadata": {},
   "outputs": [
    {
     "name": "stdout",
     "output_type": "stream",
     "text": [
      "Intercept value:  17.634791702797564\n",
      "Coffecient value:  [0.09553496]\n"
     ]
    }
   ],
   "source": [
    "print(\"Intercept value: \", lr.intercept_)\n",
    "print(\"Coffecient value: \", lr.coef_)"
   ]
  },
  {
   "cell_type": "markdown",
   "id": "76691112-c555-4fcd-8d09-1b80a3278a75",
   "metadata": {
    "tags": []
   },
   "source": [
    "#### Notes:\n",
    "- The R-squared tells us that the model is explaining a fraction over 75% of the model.\n",
    "- The intercept value of 17.63 tells us that as the low stat variable increases by 1, the predicted value of price increases by 17.63."
   ]
  },
  {
   "cell_type": "markdown",
   "id": "51ff3744-409b-4477-8649-e678ea8de966",
   "metadata": {},
   "source": [
    "y = m (slope coefficient) x + c intercept "
   ]
  },
  {
   "cell_type": "code",
   "execution_count": 78,
   "id": "68dc097d-e468-4f6d-9b11-7e85afe6ef14",
   "metadata": {},
   "outputs": [
    {
     "data": {
      "text/plain": [
       "array([781.91443965])"
      ]
     },
     "execution_count": 78,
     "metadata": {},
     "output_type": "execute_result"
    }
   ],
   "source": [
    "# Optimal price for Lego product with 8000 lego pieces\n",
    "y = (lr.coef_ * 8000) + lr.intercept_\n",
    "\n",
    "# Print result\n",
    "y"
   ]
  },
  {
   "cell_type": "markdown",
   "id": "745e9da7-52fb-4db3-ad57-f477c317143d",
   "metadata": {},
   "source": [
    "## Notes with Giorgia\n",
    "\n",
    "coefficient represent incliination of the line\n",
    "\n",
    "python \n",
    "intercept \n",
    "\n",
    "beta is inclination \n",
    "x = 0 \n",
    "beta disappears\n",
    "y = alpha\n",
    "intercept - is x is equal to 0 and y = c\n",
    "\n",
    "mknimize error square \n"
   ]
  },
  {
   "cell_type": "markdown",
   "id": "8fd1f5ad-89ac-45f3-9af9-72f53426706a",
   "metadata": {},
   "source": [
    "## Multiple Linear regression"
   ]
  },
  {
   "cell_type": "code",
   "execution_count": 80,
   "id": "73baa463-6ed0-4351-8ffa-bc8a98a10e9b",
   "metadata": {},
   "outputs": [],
   "source": [
    "# Independent variable\n",
    "X = lego[[\"piece_count\", 'ages']]\n",
    "\n",
    "# Dependent variable\n",
    "y = lego[\"list_price\"] "
   ]
  },
  {
   "cell_type": "code",
   "execution_count": 81,
   "id": "cb1ca9b1-5f1d-4ad9-ad70-fd6c7143286a",
   "metadata": {},
   "outputs": [],
   "source": [
    "# create train and test data sets\n",
    "x_train, x_test, y_train, y_test = train_test_split(X, y, test_size=0.2, random_state=5)"
   ]
  },
  {
   "cell_type": "code",
   "execution_count": 85,
   "id": "dc55eac5-cb6b-4fda-b566-a161b88f1e7a",
   "metadata": {},
   "outputs": [
    {
     "data": {
      "text/plain": [
       "LinearRegression()"
      ]
     },
     "execution_count": 85,
     "metadata": {},
     "output_type": "execute_result"
    }
   ],
   "source": [
    "multi = LinearRegression()\n",
    "multi.fit(x_train, y_train)"
   ]
  },
  {
   "cell_type": "code",
   "execution_count": 86,
   "id": "a228fe1a-79a9-4b6e-a119-59c9e80d1556",
   "metadata": {},
   "outputs": [
    {
     "data": {
      "text/plain": [
       "array([27.20528336, 34.86283928, 38.53553834, ..., 28.40785609,\n",
       "       26.10882184, 44.98887883])"
      ]
     },
     "execution_count": 86,
     "metadata": {},
     "output_type": "execute_result"
    }
   ],
   "source": [
    "multi.predict(x_train)"
   ]
  },
  {
   "cell_type": "code",
   "execution_count": 87,
   "id": "1876b19d-c323-40d0-9fa4-601da7673e70",
   "metadata": {},
   "outputs": [
    {
     "name": "stdout",
     "output_type": "stream",
     "text": [
      "R-squared:  0.7592265700511804\n",
      "Intercept:  16.323323751260915\n",
      "Coefficients:\n"
     ]
    },
    {
     "data": {
      "text/plain": [
       "[('piece_count', 0.09664997537816367), ('ages', 0.05387695376202176)]"
      ]
     },
     "execution_count": 87,
     "metadata": {},
     "output_type": "execute_result"
    }
   ],
   "source": [
    "# Checking the value of R-squared, intercept and coefficients\n",
    "print(\"R-squared: \", multi.score(x_train, y_train))\n",
    "print(\"Intercept: \", multi.intercept_)\n",
    "print(\"Coefficients:\")\n",
    "list(zip(x_train, multi.coef_))"
   ]
  },
  {
   "cell_type": "code",
   "execution_count": 88,
   "id": "a430d545-7c68-48f7-96fd-61192f68280f",
   "metadata": {},
   "outputs": [
    {
     "name": "stdout",
     "output_type": "stream",
     "text": [
      "Predicted Value: \n",
      " [17.69799081]\n"
     ]
    }
   ],
   "source": [
    "# make predictions\n",
    "New_Value1 = 5.75\n",
    "New_Value2 = 15.2\n",
    "print ('Predicted Value: \\n', multi.predict([[New_Value1 ,New_Value2]]))  "
   ]
  },
  {
   "cell_type": "markdown",
   "id": "7bc46a68-217f-436c-80c8-7b60c7999044",
   "metadata": {},
   "source": [
    "## 4. Training and testing subsets with MLR"
   ]
  },
  {
   "cell_type": "code",
   "execution_count": 89,
   "id": "592a1b5e-5ee9-4af6-99ca-1535a356122c",
   "metadata": {},
   "outputs": [
    {
     "name": "stdout",
     "output_type": "stream",
     "text": [
      "                            OLS Regression Results                            \n",
      "==============================================================================\n",
      "Dep. Variable:             list_price   R-squared:                       0.759\n",
      "Model:                            OLS   Adj. R-squared:                  0.759\n",
      "Method:                 Least Squares   F-statistic:                 1.546e+04\n",
      "Date:                Tue, 17 May 2022   Prob (F-statistic):               0.00\n",
      "Time:                        21:29:41   Log-Likelihood:                -51128.\n",
      "No. Observations:                9808   AIC:                         1.023e+05\n",
      "Df Residuals:                    9805   BIC:                         1.023e+05\n",
      "Df Model:                           2                                         \n",
      "Covariance Type:            nonrobust                                         \n",
      "===============================================================================\n",
      "                  coef    std err          t      P>|t|      [0.025      0.975]\n",
      "-------------------------------------------------------------------------------\n",
      "const          16.3233      1.075     15.179      0.000      14.215      18.431\n",
      "piece_count     0.0966      0.001    175.139      0.000       0.096       0.098\n",
      "ages            0.0539      0.055      0.981      0.326      -0.054       0.161\n",
      "==============================================================================\n",
      "Omnibus:                    11563.126   Durbin-Watson:                   1.975\n",
      "Prob(Omnibus):                  0.000   Jarque-Bera (JB):          1941238.597\n",
      "Skew:                           6.115   Prob(JB):                         0.00\n",
      "Kurtosis:                      70.828   Cond. No.                     2.29e+03\n",
      "==============================================================================\n",
      "\n",
      "Notes:\n",
      "[1] Standard Errors assume that the covariance matrix of the errors is correctly specified.\n",
      "[2] The condition number is large, 2.29e+03. This might indicate that there are\n",
      "strong multicollinearity or other numerical problems.\n"
     ]
    },
    {
     "name": "stderr",
     "output_type": "stream",
     "text": [
      "/Users/hazel/opt/anaconda3/lib/python3.9/site-packages/statsmodels/tsa/tsatools.py:142: FutureWarning: In a future version of pandas all arguments of concat except for the argument 'objs' will be keyword-only\n",
      "  x = pd.concat(x[::order], 1)\n"
     ]
    }
   ],
   "source": [
    "model = sm.OLS(y_train, sm.add_constant(x_train)).fit()\n",
    "Y_pred = model.predict(sm.add_constant(x_train))\n",
    "print_model = model.summary()\n",
    "\n",
    "print(print_model)"
   ]
  },
  {
   "cell_type": "code",
   "execution_count": null,
   "id": "feeddc5e-690a-447e-9ac1-7a38737372f0",
   "metadata": {},
   "outputs": [],
   "source": []
  }
 ],
 "metadata": {
  "kernelspec": {
   "display_name": "Python 3 (ipykernel)",
   "language": "python",
   "name": "python3"
  },
  "language_info": {
   "codemirror_mode": {
    "name": "ipython",
    "version": 3
   },
   "file_extension": ".py",
   "mimetype": "text/x-python",
   "name": "python",
   "nbconvert_exporter": "python",
   "pygments_lexer": "ipython3",
   "version": "3.9.7"
  }
 },
 "nbformat": 4,
 "nbformat_minor": 5
}
